{
  "nbformat": 4,
  "nbformat_minor": 0,
  "metadata": {
    "colab": {
      "provenance": [],
      "authorship_tag": "ABX9TyOmEaqG+bNO5TxkB9em9BMj",
      "include_colab_link": true
    },
    "kernelspec": {
      "name": "python3",
      "display_name": "Python 3"
    },
    "language_info": {
      "name": "python"
    }
  },
  "cells": [
    {
      "cell_type": "markdown",
      "metadata": {
        "id": "view-in-github",
        "colab_type": "text"
      },
      "source": [
        "<a href=\"https://colab.research.google.com/github/Phorutai/ICMA252/blob/main/ICMA252_A2_pandas_dataframe.ipynb\" target=\"_parent\"><img src=\"https://colab.research.google.com/assets/colab-badge.svg\" alt=\"Open In Colab\"/></a>"
      ]
    },
    {
      "cell_type": "markdown",
      "source": [
        "1. Write a Pandas program to create a dataframe from a dictionary and display it.\n",
        "```\n",
        "data: {'X':[78,85,96,80,86], 'Y':[84,94,89,83,86],'Z':[86,97,96,72,83]}\n",
        "```\n",
        "\n"
      ],
      "metadata": {
        "id": "bXWZ0NZIqQRL"
      }
    },
    {
      "cell_type": "code",
      "execution_count": null,
      "metadata": {
        "id": "aw2WeUVNpSxP"
      },
      "outputs": [],
      "source": [
        "# wirte code here. Feel free to add more code cell\n"
      ]
    },
    {
      "cell_type": "markdown",
      "source": [
        "2. Add a new column from the list stored in a vairabe name AA to the dataframe you have created in Problem 1\n",
        "\n",
        "```\n",
        "AA = [86,97,96,72,83]\n",
        "```\n",
        "\n",
        "\n",
        "Expected output\n",
        "```\n",
        "    X   Y   Z  AA\n",
        "0  78  84  86  86\n",
        "1  85  94  97  97\n",
        "2  96  89  96  96\n",
        "3  80  83  72  72\n",
        "4  86  86  83  83\n",
        "```\n",
        "\n"
      ],
      "metadata": {
        "id": "yZbzr1K6qkwx"
      }
    },
    {
      "cell_type": "code",
      "source": [
        "# wirte code here. Feel free to add more code cell"
      ],
      "metadata": {
        "id": "YgGCUagEr8f-"
      },
      "execution_count": null,
      "outputs": []
    },
    {
      "cell_type": "markdown",
      "source": [
        "3. Use .iloc[ ] to get a subset dataframe as the expected output below.\n",
        "\n",
        "Expected output\n",
        "```\n",
        "    Y   Z  AA\n",
        "1  94  97  97\n",
        "2  89  96  96\n",
        "3  83  72  72\n",
        "```\n",
        "\n"
      ],
      "metadata": {
        "id": "txKOBfgCspUH"
      }
    },
    {
      "cell_type": "code",
      "source": [
        "# wirte code here. Feel free to add more code cell"
      ],
      "metadata": {
        "id": "AZBSYJ_BtSO-"
      },
      "execution_count": null,
      "outputs": []
    },
    {
      "cell_type": "markdown",
      "source": [
        "4. Use .loc[ ] to get a subset dataframe as the expected output below.\n",
        "\n",
        "Expected output\n",
        "```\n",
        "    Y   Z  AA\n",
        "1  94  97  97\n",
        "2  89  96  96\n",
        "3  83  72  72\n",
        "```"
      ],
      "metadata": {
        "id": "IP6e4_8ptqOA"
      }
    },
    {
      "cell_type": "markdown",
      "source": [
        "5. Read a csv filr from the link below.\n",
        "\n",
        "https://raw.githubusercontent.com/Phorutai/deposited_csv_data/refs/heads/main/hybrid_car.csv"
      ],
      "metadata": {
        "id": "1-X2G_2Bt1S8"
      }
    },
    {
      "cell_type": "code",
      "source": [
        "# No worry! I will do this as an example for you :)\n",
        "import pandas as pd\n",
        "df_evcar = pd.read_csv('https://raw.githubusercontent.com/Phorutai/deposited_csv_data/refs/heads/main/hybrid_car.csv')\n",
        "df_evcar"
      ],
      "metadata": {
        "id": "yuG0HBORvLzC"
      },
      "execution_count": null,
      "outputs": []
    },
    {
      "cell_type": "markdown",
      "source": [
        "6. Add three more rows from three dictionaries below to the dataframe in Problem 5 by **using concat()** function.\n",
        "\n",
        "\n",
        "```\n",
        "Alaska = {'Observed frequency':26, 'Population Porportion': 0.08}\n",
        "Hawaii = {'Observed frequency':139, 'Population Porportion': 0.24}\n",
        "Ohio = {'Observed frequency':98, 'Population Porportion': 0.13}\n",
        "```\n",
        "*Hint: Create a dataframe for those dictionaries*\n",
        "Expected output\n",
        "```\n",
        "         State  Observed frequency  Population Proportion\n",
        "0   California                 250                  0.495\n",
        "1     Virginia                  56                  0.103\n",
        "2  Washaington                  34                  0.085\n",
        "3      Florida                  33                  0.240\n",
        "4     Maryland                  33                  0.077\n",
        "5       Alaska                  26                  0.080\n",
        "6        Hawaii                 139                  0.240\n",
        "7         Ohio                  98                  0.130\n",
        "\n",
        "```\n",
        "\n",
        "\n"
      ],
      "metadata": {
        "id": "wSfm4eJcvh8p"
      }
    },
    {
      "cell_type": "code",
      "source": [
        "# wirte code here. Feel free to add more code cell"
      ],
      "metadata": {
        "id": "h_nTdNE5wrEx"
      },
      "execution_count": null,
      "outputs": []
    },
    {
      "cell_type": "markdown",
      "source": [
        "7. From the dataframe you created in Problem 6, add two more columns from two lists below by **using concat()** function.\n",
        "\n",
        "\n",
        "```\n",
        "brand = ['Tesla', 'Tesla', 'BMW', 'MG', 'Tesla', 'MG', 'BYD','Delta']\n",
        "market = ['$200K', '$120K', '$300K', '$100K', '$250K', '$200K', '$120','$180K']\n",
        "```\n",
        "*Hint: Create a dataframe for those lists*\n",
        "Expected output\n",
        "```\n",
        "         State  Observed frequency  Population Proportion  Brand Market share\n",
        "0   California                 250                  0.495  Tesla        $200K\n",
        "1     Virginia                  56                  0.103  Tesla        $120K\n",
        "2  Washaington                  34                  0.085    BMW        $300K\n",
        "3      Florida                  33                  0.240     MG        $100K\n",
        "4     Maryland                  33                  0.077  Tesla        $250K\n",
        "5       Alaska                  26                  0.080     MG        $200K\n",
        "6        Hawii                 139                  0.240    BYD         $120\n",
        "7         Ohio                  98                  0.130  Delta        $180K\n",
        "```\n",
        "\n",
        "\n"
      ],
      "metadata": {
        "id": "J9VH7-FUytU6"
      }
    },
    {
      "cell_type": "code",
      "source": [
        "# wirte code here. Feel free to add more code cell"
      ],
      "metadata": {
        "id": "W9FS8WBuymcD"
      },
      "execution_count": null,
      "outputs": []
    },
    {
      "cell_type": "markdown",
      "source": [
        "8. From the dataframe you created in Problem 7, create a subset dataframe to get only states where the popupar brand is Tesla."
      ],
      "metadata": {
        "id": "LQpVr--f2Iar"
      }
    },
    {
      "cell_type": "code",
      "source": [
        "# wirte code here. Feel free to add more code cell"
      ],
      "metadata": {
        "id": "F6xpYxgQ2o2v"
      },
      "execution_count": null,
      "outputs": []
    },
    {
      "cell_type": "markdown",
      "source": [
        "9. Read three CSV files from the links below.\n",
        "\n",
        "t1_22 = https://raw.githubusercontent.com/Phorutai/deposited_csv_data/refs/heads/main/T1-22.csv\n",
        "\n",
        "t2_22 = https://raw.githubusercontent.com/Phorutai/deposited_csv_data/refs/heads/main/T2-22.csv\n",
        "\n",
        "t3_22 = https://raw.githubusercontent.com/Phorutai/deposited_csv_data/refs/heads/main/T3-22.csv\n"
      ],
      "metadata": {
        "id": "inKalBXd2-vI"
      }
    },
    {
      "cell_type": "code",
      "source": [
        "# wirte code here. Feel free to add more code cell"
      ],
      "metadata": {
        "id": "JY_x4vaM3kwC"
      },
      "execution_count": null,
      "outputs": []
    },
    {
      "cell_type": "markdown",
      "source": [
        "10. Use three dataframes from Problem 9 to create a data frame that will have four columns which are ‘Course code’, ‘T1/22’, ‘T2/22’, and ‘T3/22’ for the first to fourth columns respectively."
      ],
      "metadata": {
        "id": "FpuC9XBK3tLT"
      }
    },
    {
      "cell_type": "code",
      "source": [
        "# wirte code here. Feel free to add more code cell"
      ],
      "metadata": {
        "id": "_g-a1uOu4KEE"
      },
      "execution_count": null,
      "outputs": []
    }
  ]
}