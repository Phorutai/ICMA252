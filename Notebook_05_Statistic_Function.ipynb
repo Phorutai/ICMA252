{
  "nbformat": 4,
  "nbformat_minor": 0,
  "metadata": {
    "colab": {
      "provenance": [],
      "authorship_tag": "ABX9TyMuhcx26MQqI6tDXTdc/Ffu",
      "include_colab_link": true
    },
    "kernelspec": {
      "name": "python3",
      "display_name": "Python 3"
    },
    "language_info": {
      "name": "python"
    }
  },
  "cells": [
    {
      "cell_type": "markdown",
      "metadata": {
        "id": "view-in-github",
        "colab_type": "text"
      },
      "source": [
        "<a href=\"https://colab.research.google.com/github/Phorutai/ICMA252/blob/main/Notebook_05_Statistic_Function.ipynb\" target=\"_parent\"><img src=\"https://colab.research.google.com/assets/colab-badge.svg\" alt=\"Open In Colab\"/></a>"
      ]
    },
    {
      "cell_type": "markdown",
      "source": [
        "Given data of the exam scores are 23, 35, 18, 26, 21, 35, 39, 30, 19, 26, 12, 29, 27, 38, 26, 40, 17, and 31\n",
        "\n",
        "Calculate **mean, standard deviation, and variance** by using three different modules, and record functions you used.\n",
        "1. use statistics\n",
        "2. use numpy\n",
        "3. use scipy.stats\n",
        "\n",
        "If any module does not have a built-in function you want to use, just report that the module dose not contain that built-in function.\n",
        "Submit the python file script (.py file) to Canvas"
      ],
      "metadata": {
        "id": "zeWniuo6c7-a"
      }
    },
    {
      "cell_type": "code",
      "source": [
        "data = # what are the data"
      ],
      "metadata": {
        "id": "PtEGuiAWkBhJ"
      },
      "execution_count": null,
      "outputs": []
    },
    {
      "cell_type": "code",
      "source": [
        "# 1. use statistics\n",
        "# mean\n",
        "st_mean = # write code\n",
        "st_mean"
      ],
      "metadata": {
        "id": "dpXtbUXHdAtm"
      },
      "execution_count": null,
      "outputs": []
    },
    {
      "cell_type": "code",
      "source": [
        "# 1. use statistics\n",
        "# standard deviation\n",
        "st_sd = # write code\n",
        "st_sd"
      ],
      "metadata": {
        "id": "6-DF7EhZfeOr"
      },
      "execution_count": null,
      "outputs": []
    },
    {
      "cell_type": "code",
      "source": [
        "# 1. use statistics\n",
        "# variance\n",
        "st_var = # write code\n",
        "st_var"
      ],
      "metadata": {
        "id": "gb4UiH3ufB2R"
      },
      "execution_count": null,
      "outputs": []
    },
    {
      "cell_type": "code",
      "source": [
        "# 2. use numpy\n",
        "# mean\n",
        "np_mean = # write code\n",
        "np_mean"
      ],
      "metadata": {
        "id": "K7xGpn8TfWlm"
      },
      "execution_count": null,
      "outputs": []
    },
    {
      "cell_type": "code",
      "source": [
        "# 2. use numpy\n",
        "# standard deviation\n",
        "np_sd = # write code\n",
        "np_sd"
      ],
      "metadata": {
        "id": "p5_8Fpx6iEBJ"
      },
      "execution_count": null,
      "outputs": []
    },
    {
      "cell_type": "code",
      "source": [
        "# 3. use numpy\n",
        "# variance\n",
        "np_var = # write code\n",
        "np_var"
      ],
      "metadata": {
        "id": "YrOMMayghMs1"
      },
      "execution_count": null,
      "outputs": []
    },
    {
      "cell_type": "code",
      "source": [
        "# 3. use use scipy.stats\n",
        "# tmean() Compute the trimmed mean.\n",
        "# This function finds the arithmetic mean of given values, ignoring values outside the given limits.\n",
        "sc_tmean = # write code\n",
        "sc_tmean"
      ],
      "metadata": {
        "id": "JQCx2GtuhZuO"
      },
      "execution_count": null,
      "outputs": []
    },
    {
      "cell_type": "code",
      "source": [
        "# 3. use use scipy.stats\n",
        "# standard deviation\n",
        "sc_std = # write code\n",
        "sc_std"
      ],
      "metadata": {
        "id": "lODkt49diwAQ"
      },
      "execution_count": null,
      "outputs": []
    },
    {
      "cell_type": "code",
      "source": [
        "# 3. use use scipy.stats\n",
        "# variance\n",
        "sc_var = # write code\n",
        "sc_var"
      ],
      "metadata": {
        "id": "QrmgTqWdjI1e"
      },
      "execution_count": null,
      "outputs": []
    },
    {
      "cell_type": "markdown",
      "source": [
        "Given data of the exam scores are 23, 35, 18, 26, 21, 35, 39, 30, 19, 26, 12, 29, 27, 38, 26, 40, 17, and 31\n",
        "\n",
        "Find **median and mode** using three different modules, and record functions you used.\n",
        "1. use statistics\n",
        "2. use numpy\n",
        "3. use scipy.stats\n",
        "\n",
        "If any module does not have a built-in function you want to use, just report that the module dose not contain that built-in function. Submit the python file script (.py file) to Canvas"
      ],
      "metadata": {
        "id": "RWGySls3j-Im"
      }
    },
    {
      "cell_type": "code",
      "source": [
        "# write code here. Feel free to add more cell code."
      ],
      "metadata": {
        "id": "X_G7sJyakhPN"
      },
      "execution_count": null,
      "outputs": []
    }
  ]
}