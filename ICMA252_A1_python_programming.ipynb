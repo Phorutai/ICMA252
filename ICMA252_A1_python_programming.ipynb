{
  "nbformat": 4,
  "nbformat_minor": 0,
  "metadata": {
    "colab": {
      "provenance": [],
      "authorship_tag": "ABX9TyOW8IURLlmfIovTtI0ENLJ5",
      "include_colab_link": true
    },
    "kernelspec": {
      "name": "python3",
      "display_name": "Python 3"
    },
    "language_info": {
      "name": "python"
    }
  },
  "cells": [
    {
      "cell_type": "markdown",
      "metadata": {
        "id": "view-in-github",
        "colab_type": "text"
      },
      "source": [
        "<a href=\"https://colab.research.google.com/github/Phorutai/ICMA252/blob/main/ICMA252_A1_python_programming.ipynb\" target=\"_parent\"><img src=\"https://colab.research.google.com/assets/colab-badge.svg\" alt=\"Open In Colab\"/></a>"
      ]
    },
    {
      "cell_type": "markdown",
      "source": [
        "**Assignment 1: Basic Python Programming**\n",
        "- The assignment include 10 problems\n",
        "- Write code with adequate description (if it is necessary) to complete the assigned problems\n",
        "- Run all code cells to show output before submitinr your Colab link on Canvas"
      ],
      "metadata": {
        "id": "zKRxBgEfCOUc"
      }
    },
    {
      "cell_type": "markdown",
      "source": [
        "1.\tDefine a variable namely me to store your name and define a variable namely you to store your best friend’s name. Create three sentences by concatenating strings with these verbs: love, like, and hate. Print out the sentences as an output"
      ],
      "metadata": {
        "id": "B6ySqRyhCrIq"
      }
    },
    {
      "cell_type": "code",
      "execution_count": null,
      "metadata": {
        "id": "MIccavlZBhxi"
      },
      "outputs": [],
      "source": [
        "# write code here. Feel free to add code cells"
      ]
    },
    {
      "cell_type": "markdown",
      "source": [
        "\n",
        "\n",
        "\n",
        "\n"
      ],
      "metadata": {
        "id": "M9cDvbIsGR3I"
      }
    },
    {
      "cell_type": "markdown",
      "metadata": {
        "id": "we5sdW6mHmOb"
      },
      "source": [
        "2. Write the following mathematical formula in Python:\n",
        "\n",
        "\\begin{align}\n",
        " result = 5a^3 - \\frac{7.314b^2 }{4c} + 24\n",
        "\\end{align}\n",
        "\n",
        "Calculuate to find the result where:\n",
        "\n",
        "a = 2\n",
        "\n",
        "b = 3\n",
        "\n",
        "c = 1.252"
      ]
    },
    {
      "cell_type": "code",
      "source": [
        "# write code here. Feel free to add code cells"
      ],
      "metadata": {
        "id": "38Bc4Ui8LQ4D"
      },
      "execution_count": null,
      "outputs": []
    },
    {
      "cell_type": "markdown",
      "source": [
        "3.\tDefine the variable namely* my_list* to store a list consisting of the first ten prime numbers. Write a for loop to get the values at the indices 1, 3, 5, 7, and 9."
      ],
      "metadata": {
        "id": "icnZ1saeLbXI"
      }
    },
    {
      "cell_type": "code",
      "source": [
        "# write code here. Feel free to add code cells"
      ],
      "metadata": {
        "id": "gEgz7vhwLaLe"
      },
      "execution_count": null,
      "outputs": []
    },
    {
      "cell_type": "markdown",
      "source": [
        "4. Use *my_list* in problem 3 for Problem 4.1-4.4"
      ],
      "metadata": {
        "id": "tjVB8KAxMog0"
      }
    },
    {
      "cell_type": "markdown",
      "source": [
        "4.1 Insert the number 100 in front of the last item in *my_list.*"
      ],
      "metadata": {
        "id": "d1nMNkyUMFw-"
      }
    },
    {
      "cell_type": "code",
      "source": [
        "# write code here. Feel free to add code cells"
      ],
      "metadata": {
        "id": "lo8Aqq9KM-37"
      },
      "execution_count": null,
      "outputs": []
    },
    {
      "cell_type": "markdown",
      "source": [
        "4.2\tAdd the number 200 to *my_list*"
      ],
      "metadata": {
        "id": "-QzCHp-nNAlZ"
      }
    },
    {
      "cell_type": "code",
      "source": [
        "# write code here. Feel free to add code cells"
      ],
      "metadata": {
        "id": "EMEBtQSTNKcm"
      },
      "execution_count": null,
      "outputs": []
    },
    {
      "cell_type": "markdown",
      "source": [
        "4.3\tCreate a new list as below. Add a new list to *my_list*.\n",
        "\n",
        "new_list = [1000, 900, 800, 300, 400, 500, 600, 700]."
      ],
      "metadata": {
        "id": "wuvF7oNuNL9g"
      }
    },
    {
      "cell_type": "code",
      "source": [
        "# write code here. Feel free to add code cells"
      ],
      "metadata": {
        "id": "uYWKjIeJNjTb"
      },
      "execution_count": null,
      "outputs": []
    },
    {
      "cell_type": "markdown",
      "source": [
        "4.4\tSort the numbers in *my_list* from small to large, and print out my_list to see the result."
      ],
      "metadata": {
        "id": "X7zzK_1xNkyT"
      }
    },
    {
      "cell_type": "code",
      "source": [
        "# write code here. Feel free to add code cells"
      ],
      "metadata": {
        "id": "4s55JHknNszL"
      },
      "execution_count": null,
      "outputs": []
    },
    {
      "cell_type": "markdown",
      "source": [
        "5.\tDefine a variable namely *number_letter* to store a dictionary where the keys are numbers 1 to 24 and the values are the English letters A-Z. Print out the dictionary to see the output."
      ],
      "metadata": {
        "id": "UAL5-nhrNu7S"
      }
    },
    {
      "cell_type": "code",
      "source": [
        "# write code here. Feel free to add code cells"
      ],
      "metadata": {
        "id": "PCJrzkLcN2LK"
      },
      "execution_count": null,
      "outputs": []
    },
    {
      "cell_type": "markdown",
      "source": [
        "6. Write a for loop to get the values that have key values of 2, 9, 15, 12, 15, 7, and 25 from the *number_letter* dictionary you have created in Problem 5.  "
      ],
      "metadata": {
        "id": "LgZHyeOnN4zV"
      }
    },
    {
      "cell_type": "code",
      "source": [
        "# write code here. Feel free to add code cells"
      ],
      "metadata": {
        "id": "7HG1ssAKRbfi"
      },
      "execution_count": null,
      "outputs": []
    },
    {
      "cell_type": "markdown",
      "source": [
        "7.\tWrite a python code to create a 3x3 matrix with values ranging from 1 to 9 using numpy array and store the array in a variable namely *my_numpy*.  "
      ],
      "metadata": {
        "id": "s_R8OfkIRf1k"
      }
    },
    {
      "cell_type": "code",
      "source": [
        "# write code here. Feel free to add code cells"
      ],
      "metadata": {
        "id": "hJkwNwUXRpAj"
      },
      "execution_count": null,
      "outputs": []
    },
    {
      "cell_type": "markdown",
      "source": [
        "8.\tWrite a python code to do a slicing from the *my_numpy* array to get all numbers in the last column."
      ],
      "metadata": {
        "id": "GzX2qGNARqUa"
      }
    },
    {
      "cell_type": "code",
      "source": [
        "# write code here. Feel free to add code cells"
      ],
      "metadata": {
        "id": "Je9W0NvDTPrX"
      },
      "execution_count": null,
      "outputs": []
    },
    {
      "cell_type": "markdown",
      "source": [
        "9. Write a Python program to check if the given password is weak or strong.\n",
        "\n",
        "- Weak: The password has character length less than 16\n",
        "- Strong: The password has character length longer than or equal to 16 and contains at least one special word; 'cat'\n"
      ],
      "metadata": {
        "id": "n6lBv9giTTKg"
      }
    },
    {
      "cell_type": "code",
      "source": [
        "password = '61n3cat1vcat#asd23'\n",
        "if len(password) < 16:\n",
        "  print('weak')\n",
        "elif len(password) >= 16 and 'cat' not in password:\n",
        "  print('weak')\n",
        "else:\n",
        "  print('strong')\n"
      ],
      "metadata": {
        "id": "RAiF5XWKXerf"
      },
      "execution_count": null,
      "outputs": []
    },
    {
      "cell_type": "markdown",
      "source": [
        "10. Create a function namely *pass_check()* from code in Problem 9. Run code to check if the given passwords below are weak, strong, or moderate.\n",
        "\n",
        "Given password:\n",
        "1. bananatbabanatnacacabtn\n",
        "2. lca2t6f47ghcalty\n",
        "3. canacabacabacatacat\n"
      ],
      "metadata": {
        "id": "zaG1bEQJXrog"
      }
    },
    {
      "cell_type": "code",
      "source": [
        "# create function\n",
        "def pass_check(p):  # p will refer to the input password in the code\n",
        "  # write code here"
      ],
      "metadata": {
        "id": "ytKbApZ7Zkzh"
      },
      "execution_count": null,
      "outputs": []
    },
    {
      "cell_type": "code",
      "source": [
        "# run the function to check password 1\n",
        "pw1 = 'bananatbabanatnacacabtn'"
      ],
      "metadata": {
        "colab": {
          "base_uri": "https://localhost:8080/"
        },
        "id": "gXBaqCRnZ7_z",
        "outputId": "8a988348-1586-4c20-99e7-a4b9172bf888"
      },
      "execution_count": 2,
      "outputs": [
        {
          "output_type": "stream",
          "name": "stdout",
          "text": [
            "No\n"
          ]
        }
      ]
    },
    {
      "cell_type": "code",
      "source": [
        "# run the function to check password 1\n",
        "pw2 = 'lca2t6f47ghcalty'"
      ],
      "metadata": {
        "id": "R3TNArrFaJSX"
      },
      "execution_count": null,
      "outputs": []
    },
    {
      "cell_type": "code",
      "source": [
        "# run the function to check password 1\n",
        "pw3 = 'canacabacabacatacat'"
      ],
      "metadata": {
        "id": "NmyP-MAaaRd1"
      },
      "execution_count": null,
      "outputs": []
    }
  ]
}