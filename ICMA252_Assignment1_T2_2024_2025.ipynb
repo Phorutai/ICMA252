{
  "nbformat": 4,
  "nbformat_minor": 0,
  "metadata": {
    "colab": {
      "provenance": [],
      "authorship_tag": "ABX9TyMoHdDKWlcYPBsH5/ejA/Dd",
      "include_colab_link": true
    },
    "kernelspec": {
      "name": "python3",
      "display_name": "Python 3"
    },
    "language_info": {
      "name": "python"
    }
  },
  "cells": [
    {
      "cell_type": "markdown",
      "metadata": {
        "id": "view-in-github",
        "colab_type": "text"
      },
      "source": [
        "<a href=\"https://colab.research.google.com/github/Phorutai/ICMA252/blob/main/ICMA252_Assignment1_T2_2024_2025.ipynb\" target=\"_parent\"><img src=\"https://colab.research.google.com/assets/colab-badge.svg\" alt=\"Open In Colab\"/></a>"
      ]
    },
    {
      "cell_type": "markdown",
      "source": [
        "\n",
        "**Assignment 1: Basic Python Programming and Statistic overview**\n",
        "\n",
        "- The assignment include 15 problems\n",
        "\n",
        "- Write code with adequate description (if it is necessary) to complete the assigned problems\n",
        "\n",
        "- Run all code cells to show output before submiting your Colab link on Canvas"
      ],
      "metadata": {
        "id": "gZ-qL0odf98l"
      }
    },
    {
      "cell_type": "markdown",
      "source": [
        "1. Create a variable with the name firstWord and assign the value: `ICMA` in it. Then create a second variable named secondWord and assign the value: `252`.\n",
        "\n",
        "  Now use those two variables you have just created to print out the text:\n",
        "  \n",
        "  `ICMA 252`"
      ],
      "metadata": {
        "id": "-zqjD54Sgfnw"
      }
    },
    {
      "cell_type": "code",
      "source": [
        "# write code here, feel free to add more code cells"
      ],
      "metadata": {
        "id": "RadHMT2Hg0VQ"
      },
      "execution_count": null,
      "outputs": []
    },
    {
      "cell_type": "markdown",
      "source": [
        "2. Take the sentence:` I love statistic`\n",
        "Store each word in a separate variable, then print out the sentence on one line using print function."
      ],
      "metadata": {
        "id": "Kl07fT1rg4nK"
      }
    },
    {
      "cell_type": "code",
      "execution_count": null,
      "metadata": {
        "id": "3XAGhU-NfMoS"
      },
      "outputs": [],
      "source": [
        "# write code here, feel free to add more code cells"
      ]
    },
    {
      "cell_type": "markdown",
      "source": [
        "3. First, assign your name into `name` variable, your last name into `last_name` variable and your age into `age` variable.\n",
        "\n",
        "  Then print on the screen the following example text:\n",
        "\n",
        "  `Phorutai Pearngam is 25 years old`"
      ],
      "metadata": {
        "id": "TalBQlILg_eg"
      }
    },
    {
      "cell_type": "code",
      "source": [
        "# write code here, feel free to add more code cells"
      ],
      "metadata": {
        "id": "pbk8NPJahLI2"
      },
      "execution_count": null,
      "outputs": []
    },
    {
      "cell_type": "markdown",
      "source": [
        "4. Use the Fahrenheit to Celsius formula to find the temperature at 32 °F in degree Celsius.\n",
        "\n",
        " Formula: °C = (°F-32) x 5/9"
      ],
      "metadata": {
        "id": "Fp-BihAnhNE9"
      }
    },
    {
      "cell_type": "code",
      "source": [
        "# write code here, feel free to add more code cells"
      ],
      "metadata": {
        "id": "83SzMzN5hUu4"
      },
      "execution_count": null,
      "outputs": []
    },
    {
      "cell_type": "markdown",
      "source": [
        "5. Write a Python code to iterate the numbers in `list_a`, and print the current and previous numbers' sum. **Do not use loops or any build-in functions.**\n",
        "\n",
        "list_a = [2, 3, 5, 7, 11, 13, 17, 19, 23, 29]\n",
        "\n",
        "```\n",
        "# This is formatted as code\n",
        "```\n",
        "\n",
        "\n",
        "Expected output:\n",
        "\n",
        "```\n",
        "The current number is 2. The summation is 2\n",
        "The current number is 3. The summation is 5\n",
        "The current number is 5. The summation is 10\n",
        "The current number is 7. The summation is 17\n",
        "The current number is 11. The summation is 28\n",
        "The current number is 13. The summation is 41\n",
        "The current number is 17. The summation is 58\n",
        "The current number is 19. The summation is 77\n",
        "The current number is 23. The summation is 100\n",
        "The current number is 29. The summation is 129\n",
        "```\n",
        "\n"
      ],
      "metadata": {
        "id": "Vu9BU2_dhWQS"
      }
    },
    {
      "cell_type": "code",
      "source": [
        "# write code here, feel free to add more code cells"
      ],
      "metadata": {
        "id": "6Y74O4BThi8D"
      },
      "execution_count": null,
      "outputs": []
    },
    {
      "cell_type": "markdown",
      "source": [
        "6. Create a variable with the name `list_b` to store the first ten prime integer numbers. Write a Python code to iterate the numbers in `list_b`, and print the current and previous numbers' sum **using loops**. Any build-in functions are not allowed to be used."
      ],
      "metadata": {
        "id": "2pJIMgLyicbd"
      }
    },
    {
      "cell_type": "code",
      "source": [
        "# write code here, feel free to add more code cells"
      ],
      "metadata": {
        "id": "BAt93ljnik5J"
      },
      "execution_count": null,
      "outputs": []
    },
    {
      "cell_type": "markdown",
      "source": [
        "7. Write a Python code to create the output from list1 using `append()` and `extend()` functions\n",
        "\n",
        "`list1 = [1, 3, 2]`\n",
        "\n",
        "expected output:\n",
        "\n",
        "`[1, 3, 2, 1, 3, 2, 2]`"
      ],
      "metadata": {
        "id": "suzzn3uyimoJ"
      }
    },
    {
      "cell_type": "code",
      "source": [
        "# write code here, feel free to add more code cells"
      ],
      "metadata": {
        "id": "hq_E3VgYixnI"
      },
      "execution_count": null,
      "outputs": []
    },
    {
      "cell_type": "markdown",
      "source": [
        "8. Write a Python code to create the output from list2 **using a slicing method**\n",
        "\n",
        "`list2 = [1, 3, 2, 1, 3, 2, 2]`\n",
        "\n",
        "expected output:\n",
        "\n",
        "`[3, 1, 2]`"
      ],
      "metadata": {
        "id": "DOswjJeWizcr"
      }
    },
    {
      "cell_type": "code",
      "source": [
        "# write code here, feel free to add more code cells"
      ],
      "metadata": {
        "id": "G6Sxu4mTjIvx"
      },
      "execution_count": null,
      "outputs": []
    },
    {
      "cell_type": "markdown",
      "source": [
        "9. Write a Python code to create the output from list3.\n",
        "\n",
        "`list3 = [3, 1, 2, 5, 4, 6]`\n",
        "\n",
        "expected output:\n",
        "\n",
        "`[6, 4, 3, 2, 1]`"
      ],
      "metadata": {
        "id": "7-AiyS9hjKbt"
      }
    },
    {
      "cell_type": "code",
      "source": [
        "# write code here, feel free to add more code cells"
      ],
      "metadata": {
        "id": "0sCuQVxdjQlH"
      },
      "execution_count": null,
      "outputs": []
    },
    {
      "cell_type": "markdown",
      "source": [
        "10. Create an array of 3 x 3 from the first nine even integer numbers and store it in a variable name `array1`. Use the print function to print out the array."
      ],
      "metadata": {
        "id": "9kveXirijR-X"
      }
    },
    {
      "cell_type": "code",
      "source": [
        "# write code here, feel free to add more code cells"
      ],
      "metadata": {
        "id": "EKh29u1ikAWS"
      },
      "execution_count": null,
      "outputs": []
    },
    {
      "cell_type": "markdown",
      "source": [
        "11. Write a Python code to slice numbers in `array1` to get all possible sets of numbers that its summation will equal 58."
      ],
      "metadata": {
        "id": "0cn3CCsJkDtF"
      }
    },
    {
      "cell_type": "code",
      "source": [
        "# write code here, feel free to add more code cells"
      ],
      "metadata": {
        "id": "mrEIxK9HkKxx"
      },
      "execution_count": null,
      "outputs": []
    },
    {
      "cell_type": "markdown",
      "source": [
        "12. Define a variable named `number_letter` to store a dictionary where the keys are numbers 1 to 26 and the values are the English letters A-Z. Print out the dictionary to see the output."
      ],
      "metadata": {
        "id": "_rpZbfAKkR8L"
      }
    },
    {
      "cell_type": "code",
      "source": [
        "# write code here, feel free to add more code cells"
      ],
      "metadata": {
        "id": "0tdPmVHpk7pL"
      },
      "execution_count": null,
      "outputs": []
    },
    {
      "cell_type": "markdown",
      "source": [
        "13. Create an empty list and store it in a variable named `myname`. **Use loops** to loop through numbers 1 to 26.\n",
        "\n",
        "  **Use the if condition** to get only letters in your first name, and keep those letters in a list of `myname`.\n",
        "  \n",
        "  Use the print function to print out `myname`.\n",
        "\n",
        "Expected output:\n",
        "\n",
        "`['A', 'H', 'I', 'O', 'P', 'R', 'T', 'U']`"
      ],
      "metadata": {
        "id": "R7In-NT1k9Je"
      }
    },
    {
      "cell_type": "code",
      "source": [
        "# write code here, feel free to add more code cells"
      ],
      "metadata": {
        "id": "_G-YVeZRqCYV"
      },
      "execution_count": null,
      "outputs": []
    },
    {
      "cell_type": "markdown",
      "source": [
        "14. Use the `calculated_mean` function you created in **Exercise 8 from Notebook_04** to find the means from numbers in a list with name `data`.\n",
        "\n",
        "`data = [3.68, 2.58, 2.5, 3.33, 3.2, 3.14, 2.71, 1.99, 4.09, 2.41, 3.23, 1.84, 3.17, 2.17, 2.77, 1.2, 3.49, 0.87, 0.23, 2.28]`"
      ],
      "metadata": {
        "id": "SqIFYZgloRMO"
      }
    },
    {
      "cell_type": "code",
      "source": [
        "# write code here, feel free to add more code cells"
      ],
      "metadata": {
        "id": "iRyebEQ8qFNI"
      },
      "execution_count": null,
      "outputs": []
    },
    {
      "cell_type": "markdown",
      "source": [
        "15.  Use the indexing method to get a word from `list4` to create the assigned sentence, then print out the sentence on one line using print function.\n",
        "\n",
        "`list4 = [‘effort’, ‘determines’, ‘the’, ‘put in’, ‘you’, ‘amount’, ‘of’, ‘joy’, ‘receive’, ‘that’]`\n",
        "\n",
        "expected output:\n",
        "\n",
        "`the amount of effort you put in determines the amount of joy that you receive`"
      ],
      "metadata": {
        "id": "dTnSk9JPqGMM"
      }
    },
    {
      "cell_type": "code",
      "source": [
        "# write code here, feel free to add more code cells"
      ],
      "metadata": {
        "id": "74JEKl1wqPP6"
      },
      "execution_count": null,
      "outputs": []
    }
  ]
}