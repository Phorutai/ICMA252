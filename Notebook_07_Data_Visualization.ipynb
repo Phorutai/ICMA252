{
  "nbformat": 4,
  "nbformat_minor": 0,
  "metadata": {
    "colab": {
      "provenance": [],
      "authorship_tag": "ABX9TyMFgSrl5oeoM7OmPd6Fs5Ht",
      "include_colab_link": true
    },
    "kernelspec": {
      "name": "python3",
      "display_name": "Python 3"
    },
    "language_info": {
      "name": "python"
    }
  },
  "cells": [
    {
      "cell_type": "markdown",
      "metadata": {
        "id": "view-in-github",
        "colab_type": "text"
      },
      "source": [
        "<a href=\"https://colab.research.google.com/github/Phorutai/ICMA252/blob/main/Notebook_07_Data_Visualization.ipynb\" target=\"_parent\"><img src=\"https://colab.research.google.com/assets/colab-badge.svg\" alt=\"Open In Colab\"/></a>"
      ]
    },
    {
      "cell_type": "markdown",
      "source": [
        "# **What is Matplotlib?**\n",
        "- Matplotlib is a low level graph plotting library in python that serves as a visualization utility.\n",
        "- The source code for Matplotlib is located at\n",
        "[this github repository](https://github.com/matplotlib/matplotlib)"
      ],
      "metadata": {
        "id": "9xOj3gbb3dXd"
      }
    },
    {
      "cell_type": "code",
      "execution_count": null,
      "metadata": {
        "id": "u1rEwz7rtfN0"
      },
      "outputs": [],
      "source": [
        "# You need to import the matplotlib.pyplot module and run the code cell before using it.\n",
        "import matplotlib.pyplot as plt"
      ]
    },
    {
      "cell_type": "markdown",
      "source": [
        "# **1. Line plot**"
      ],
      "metadata": {
        "id": "SDg1as2VH6Pe"
      }
    },
    {
      "cell_type": "code",
      "source": [
        "x = [1, 2, 3, 4, 5, 6]\n",
        "y = [4, 10, 6, 16, 26, 20]\n",
        "fig, ax = plt.subplots()\n",
        "ax.plot(x, y)\n",
        "ax.set(xlabel='x', ylabel='y', title='line graph')\n",
        "plt.savefig('graph1.png')\n",
        "plt.show()"
      ],
      "metadata": {
        "id": "-Vq_UChCIBf3"
      },
      "execution_count": null,
      "outputs": []
    },
    {
      "cell_type": "markdown",
      "source": [
        "# **2. Bar chart**"
      ],
      "metadata": {
        "id": "TMzSjn8OIclg"
      }
    },
    {
      "cell_type": "code",
      "source": [
        "x = ['A', 'B', 'C', 'D', 'E', 'F']\n",
        "y = [4, 10, 6, 16, 26, 20]\n",
        "fig, ax = plt.subplots()\n",
        "ax.bar(x, y)\n",
        "ax.set(xlabel='x', ylabel='y', title='Bar graph')\n",
        "plt.savefig('graph2.png')\n",
        "plt.show()"
      ],
      "metadata": {
        "id": "36XFWdg7Ij1E"
      },
      "execution_count": null,
      "outputs": []
    },
    {
      "cell_type": "markdown",
      "source": [
        "Bar chart with error bars"
      ],
      "metadata": {
        "id": "JJ8IfIHVI6xj"
      }
    },
    {
      "cell_type": "code",
      "source": [
        "x = ['A', 'B', 'C', 'D', 'E', 'F']\n",
        "y = [4, 10, 6, 16, 26, 20]\n",
        "z = [2, 3, 1.5, 5, 12.5, 10]\n",
        "fig, ax = plt.subplots()\n",
        "ax.bar(x, y, yerr=z)\n",
        "ax.set(xlabel='x', ylabel='y', title='Bar graph')\n",
        "plt.savefig('graph2-1.png')\n",
        "plt.show()"
      ],
      "metadata": {
        "id": "ztOROIDKJI2W"
      },
      "execution_count": null,
      "outputs": []
    },
    {
      "cell_type": "markdown",
      "source": [
        "# **3. Scatter plot**"
      ],
      "metadata": {
        "id": "ZR4LNI3TJz-N"
      }
    },
    {
      "cell_type": "code",
      "source": [
        "x = [1, 2, 3, 4, 5, 6]\n",
        "y = [4, 10, 16, 24, 32, 40]\n",
        "fig, ax = plt.subplots()\n",
        "ax.scatter(x, y)\n",
        "ax.set(xlabel='x', ylabel='y', title='Scatter plot')\n",
        "plt.savefig('graph3.png')\n",
        "plt.show()\n"
      ],
      "metadata": {
        "id": "CzQZhI3CJ6D8"
      },
      "execution_count": null,
      "outputs": []
    },
    {
      "cell_type": "markdown",
      "source": [
        "# **4. Pie chart**"
      ],
      "metadata": {
        "id": "JL-0VQ9WLt7S"
      }
    },
    {
      "cell_type": "code",
      "source": [
        "labels = ['A', 'B', 'C', 'D']\n",
        "y = [4, 10, 24, 32]\n",
        "fig, ax = plt.subplots()\n",
        "ax.pie(y, labels=labels)\n",
        "plt.title('Pie chart')\n",
        "plt.savefig('graph4.png')\n",
        "plt.show()"
      ],
      "metadata": {
        "id": "nNPoyydKL1DL"
      },
      "execution_count": null,
      "outputs": []
    },
    {
      "cell_type": "markdown",
      "source": [
        "# **5. Histogram**"
      ],
      "metadata": {
        "id": "sEDQPyizzEj_"
      }
    },
    {
      "cell_type": "code",
      "source": [
        "import numpy as np\n",
        "data = np.random.normal(loc=3, scale=2, size=100)  # generate data from random numbers\n",
        "fig, ax = plt.subplots()\n",
        "ax.hist(data, bins=10)\n",
        "# bins is number of class intervals\n",
        "ax.set(xlabel='Ages', ylabel='Frequency', title='Histogram')\n",
        "plt.savefig('graph5.png')\n",
        "plt.show()"
      ],
      "metadata": {
        "id": "0U1PeyWpzGJv"
      },
      "execution_count": null,
      "outputs": []
    },
    {
      "cell_type": "markdown",
      "source": [
        "# **6. Box and whisker plot**"
      ],
      "metadata": {
        "id": "Hmr1eWq3z4Ly"
      }
    },
    {
      "cell_type": "markdown",
      "source": [
        "One box plot"
      ],
      "metadata": {
        "id": "lV4dHyrzFiyo"
      }
    },
    {
      "cell_type": "code",
      "source": [
        "x1 = [25, 28, 29, 29, 30, 34, 35, 35, 37, 38]\n",
        "fig, ax = plt.subplots()\n",
        "ax.boxplot(x1)\n",
        "ax.set(xlabel='x', ylabel='y', title='Box plot')\n",
        "plt.savefig('graph6-1.png')\n",
        "plt.show()"
      ],
      "metadata": {
        "id": "TxXwXhbwFigG"
      },
      "execution_count": null,
      "outputs": []
    },
    {
      "cell_type": "markdown",
      "source": [
        "A side-by-side box plot"
      ],
      "metadata": {
        "id": "Otl796jmFdsi"
      }
    },
    {
      "cell_type": "code",
      "source": [
        "x1 = [25, 28, 29, 29, 30, 34, 35, 35, 37, 38]\n",
        "x2 = [20, 22, 29, 30, 32, 28, 29, 31, 27, 28]\n",
        "fig, ax = plt.subplots()\n",
        "ax.boxplot([x1, x2])\n",
        "ax.set(xlabel='x', ylabel='y', title='Box plot')\n",
        "plt.xticks([1,2], labels=['x1','x2'])\n",
        "plt.savefig('graph6-2.png')\n",
        "plt.show()"
      ],
      "metadata": {
        "id": "qRvM1Seh0DL_"
      },
      "execution_count": null,
      "outputs": []
    },
    {
      "cell_type": "markdown",
      "source": [
        "# **Overlaying of multiple data sets in one plot**"
      ],
      "metadata": {
        "id": "aATb0XIN26jF"
      }
    },
    {
      "cell_type": "code",
      "source": [
        "x = [1, 2, 3, 4, 5, 6]\n",
        "y1 = [4, 10, 6, 16, 26, 20]\n",
        "y2 = [4, 10, 6, 16, 26, 20]\n",
        "fig, ax = plt.subplots()\n",
        "ax.bar(x, y1, label='y1')  # plot for y1\n",
        "ax.plot(x, y2, label='y2', color='red')  # plot for y2\n",
        "ax.set(xlabel='x', ylabel='y', title='overlayed graph')\n",
        "plt.legend()  # show legends\n",
        "plt.savefig('graph7.png')\n",
        "plt.show()"
      ],
      "metadata": {
        "id": "1lDk9I2V1z-H"
      },
      "execution_count": null,
      "outputs": []
    },
    {
      "cell_type": "markdown",
      "source": [
        "**Exercise 1:** Use  the data from the link below to do the following tasks\n",
        "\n",
        "**data:** https://raw.githubusercontent.com/Phorutai/deposited_csv_data/refs/heads/main/StudentsPerformance.csv\n",
        "\n",
        "1. Find mean and stadard deviation (std) of score from male and female students\n",
        "2. Create a bar plot to visualised mean and std values of score from male and female students\n",
        "3. Find mean and std values of score from four ethnic groups (A, B, C, and D)\n",
        "4. Create a bar plot to visualised mean and std values of score from the four ethinc group.\n",
        "5. Visualize the distibution of scores from four ethnic groups using a side box plot.\n",
        "6. Creat an overlaying histogram to show the score distribution between male and female students"
      ],
      "metadata": {
        "id": "tGka4Qg13MUr"
      }
    },
    {
      "cell_type": "code",
      "source": [
        "# import needed modules\n",
        "import pandas as pd\n",
        "import matplotlib.pyplot as plt\n",
        "# read a data from a csv file\n",
        "df = pd.read_csv('https://raw.githubusercontent.com/Phorutai/deposited_csv_data/refs/heads/main/StudentsPerformance.csv')\n",
        "df"
      ],
      "metadata": {
        "id": "0-e2WsJX6HgP"
      },
      "execution_count": null,
      "outputs": []
    },
    {
      "cell_type": "code",
      "source": [
        "\"\"\"\n",
        "1. Find mean and stadard deviation (std) of score from male and female students\n",
        "\"\"\"\n",
        "df_male = df[df['gender'] == 'male']\n",
        "df_female = df[df['gender'] == 'female']\n",
        "male_stat = df_male['score'].describe()\n",
        "female_stat = df_female['score'].describe()\n",
        "mean_score = [male_stat['mean'], female_stat['mean']]\n",
        "std_score = [male_stat['std'], female_stat['std']]"
      ],
      "metadata": {
        "id": "y1Yh6a2x0PpJ"
      },
      "execution_count": null,
      "outputs": []
    },
    {
      "cell_type": "code",
      "source": [
        "\"\"\"\n",
        "2. Create a bar plot to visualised mean and std values of score from male and female students\n",
        "\"\"\"\n",
        "fig, ax = plt.subplots()\n",
        "x = ['male', 'female']\n",
        "y = mean_score\n",
        "error_bar = std_score\n",
        "ax.bar(x,y,yerr=error_bar)\n",
        "plt.show()"
      ],
      "metadata": {
        "id": "7y3V8FB863Vk"
      },
      "execution_count": null,
      "outputs": []
    },
    {
      "cell_type": "code",
      "source": [
        "# wirte code here. Feel free to add more code cell"
      ],
      "metadata": {
        "id": "S8URJLut7SqS"
      },
      "execution_count": null,
      "outputs": []
    },
    {
      "cell_type": "markdown",
      "source": [
        "# **What is Seaborn?**\n",
        "- Seaborn is an amazing visualization library for statistical graphics plotting in Python.\n",
        "- It provides beautiful default styles and color palettes to make statistical plots more attractive.\n",
        "- It is built on top matplotlib library and is also closely integrated with the data structures from pandas.\n",
        "- The source code for Seaborn is located at\n",
        "[this github repository](https://github.com/mwaskom/seaborn)"
      ],
      "metadata": {
        "id": "q9g0aF5K46rz"
      }
    },
    {
      "cell_type": "markdown",
      "source": [
        "Use the same data set as Exercise 1 to visualize data using Seaborn\n",
        "1. Create a bar plot to visualised mean and std values of score from the four ethinc group\n",
        "2. Create a side-box plot to visulaize the score disctibution of four ethnic groups"
      ],
      "metadata": {
        "id": "6rU5URwN7ng4"
      }
    },
    {
      "cell_type": "code",
      "source": [
        "import seaborn as sns"
      ],
      "metadata": {
        "id": "vMWC8nqiEpmx"
      },
      "execution_count": null,
      "outputs": []
    },
    {
      "cell_type": "code",
      "source": [
        "# 1. Create a bar plot to visualised mean and std values of score from the four ethinc group\n",
        "# How do you sort a dataframe form values in the column 'ethnicity'?\n",
        "# write code to sort data here\n",
        "sns.barplot(data=df, x='ethnicity', y='score')\n",
        "plt.show()"
      ],
      "metadata": {
        "id": "gX8LW-Y7EeHj"
      },
      "execution_count": null,
      "outputs": []
    },
    {
      "cell_type": "code",
      "source": [
        "# 2.Create a side-box plot to visulaize the score disctibution of four ethnic groups\n",
        "# write code here"
      ],
      "metadata": {
        "id": "zpIvKqlNCM_Y"
      },
      "execution_count": null,
      "outputs": []
    }
  ]
}