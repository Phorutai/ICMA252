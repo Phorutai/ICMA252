{
  "nbformat": 4,
  "nbformat_minor": 0,
  "metadata": {
    "colab": {
      "provenance": [],
      "authorship_tag": "ABX9TyP81Fwq7ZE+FD72QKG63jXy",
      "include_colab_link": true
    },
    "kernelspec": {
      "name": "python3",
      "display_name": "Python 3"
    },
    "language_info": {
      "name": "python"
    }
  },
  "cells": [
    {
      "cell_type": "markdown",
      "metadata": {
        "id": "view-in-github",
        "colab_type": "text"
      },
      "source": [
        "<a href=\"https://colab.research.google.com/github/Phorutai/ICMA252/blob/main/Notebook_01_getting_start_colab.ipynb\" target=\"_parent\"><img src=\"https://colab.research.google.com/assets/colab-badge.svg\" alt=\"Open In Colab\"/></a>"
      ]
    },
    {
      "cell_type": "markdown",
      "source": [
        "Print my name by using print() function"
      ],
      "metadata": {
        "id": "4D6t0gJXHXX9"
      }
    },
    {
      "cell_type": "code",
      "source": [
        "print('Phorutai')  # use '' to cover texts"
      ],
      "metadata": {
        "id": "MWPS8_qhH3F2"
      },
      "execution_count": null,
      "outputs": []
    }
  ]
}