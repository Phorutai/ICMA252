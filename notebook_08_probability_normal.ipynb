{
  "nbformat": 4,
  "nbformat_minor": 0,
  "metadata": {
    "colab": {
      "provenance": [],
      "authorship_tag": "ABX9TyOQz3cuiavar7YTh6uzlSnN",
      "include_colab_link": true
    },
    "kernelspec": {
      "name": "python3",
      "display_name": "Python 3"
    },
    "language_info": {
      "name": "python"
    }
  },
  "cells": [
    {
      "cell_type": "markdown",
      "metadata": {
        "id": "view-in-github",
        "colab_type": "text"
      },
      "source": [
        "<a href=\"https://colab.research.google.com/github/Phorutai/ICMA252/blob/main/notebook_08_probability_normal.ipynb\" target=\"_parent\"><img src=\"https://colab.research.google.com/assets/colab-badge.svg\" alt=\"Open In Colab\"/></a>"
      ]
    },
    {
      "cell_type": "markdown",
      "source": [
        "**Probability density function: Normal distribution model**\n",
        "\n",
        "*   Determination of probability of continuous random variables by PDF\n",
        "*   .pdf(x, loc, scale) from scipy.stats\n",
        "\n"
      ],
      "metadata": {
        "id": "dT3SgbbL-45T"
      }
    },
    {
      "cell_type": "code",
      "execution_count": null,
      "metadata": {
        "id": "tiRgYozi8_z1"
      },
      "outputs": [],
      "source": [
        "# import needed module\n",
        "import pandas as pd\n",
        "import numpy as np\n",
        "from scipy.stats import norm\n",
        "import seaborn as sns\n",
        "import matplotlib.pyplot as plt"
      ]
    },
    {
      "cell_type": "code",
      "source": [],
      "metadata": {
        "id": "NZqe6bNW3EqE"
      },
      "execution_count": null,
      "outputs": []
    },
    {
      "cell_type": "code",
      "source": [
        "\"\"\"Find the probability from scores in sat_score.csv\"\"\"\n",
        "file = 'https://raw.githubusercontent.com/Phorutai/deposited_csv_data/refs/heads/main/sat_score.csv'\n",
        "df_score = pd.read_csv(file)\n",
        "score = df_score.loc[:, 'SAT score']\n",
        "pdf_score = norm.pdf(score, loc=np.mean(score), scale=np.std(score))\n",
        "df_out = pd.DataFrame()\n",
        "df_out['SAT score'] = score\n",
        "df_out['PDF'] = pdf_score\n",
        "df_out"
      ],
      "metadata": {
        "id": "lU0ynITS_hrA"
      },
      "execution_count": null,
      "outputs": []
    },
    {
      "cell_type": "code",
      "source": [
        "\"\"\"Create a line plot to visualise the probability density distrubtion\"\"\"\n",
        "sns.lineplot(data=df_out, x='SAT score', y='PDF')\n",
        "plt.title('PDF')\n",
        "plt.show()"
      ],
      "metadata": {
        "id": "dvYMRyCLArzk"
      },
      "execution_count": null,
      "outputs": []
    },
    {
      "cell_type": "markdown",
      "source": [
        "How to interprete this plot?"
      ],
      "metadata": {
        "id": "Hz_eBvTgCB7u"
      }
    },
    {
      "cell_type": "markdown",
      "source": [
        "**Cumulative Distribution Function (CDF): Normal Distribution**\n"
      ],
      "metadata": {
        "id": "nVdN3zwfIL-r"
      }
    },
    {
      "cell_type": "code",
      "source": [
        "\"\"\"Find the cumulative probability from scores in sat_score.csv\"\"\"\n",
        "file = 'https://raw.githubusercontent.com/Phorutai/deposited_csv_data/refs/heads/main/sat_score.csv'\n",
        "df_score = pd.read_csv(file)\n",
        "score = df_score.loc[:, 'SAT score']\n",
        "cdf_score = norm.cdf(score, loc=np.mean(score), scale=np.std(score))\n",
        "df_out = pd.DataFrame()\n",
        "df_out['SAT score'] = score\n",
        "df_out['CDF'] = cdf_score\n",
        "df_out"
      ],
      "metadata": {
        "id": "Kc3RiFFq3JOh"
      },
      "execution_count": null,
      "outputs": []
    },
    {
      "cell_type": "code",
      "source": [
        "\"\"\"Create a line plot to visualise the cumulative probability distrubtion\"\"\"\n",
        "sns.lineplot(data=df_out, x='SAT score', y='CDF')\n",
        "plt.title('CDF')\n",
        "plt.show()"
      ],
      "metadata": {
        "id": "0gW453IX3PEK"
      },
      "execution_count": null,
      "outputs": []
    },
    {
      "cell_type": "markdown",
      "source": [
        "PDF vs CDF\n",
        "- Find the probability of the score of 50\n",
        "- Find the probability of the scores that is less than or equal to 50"
      ],
      "metadata": {
        "id": "jEqdYeut3qrf"
      }
    },
    {
      "cell_type": "code",
      "source": [
        "# write code here"
      ],
      "metadata": {
        "id": "HCpuNWJY4E9X"
      },
      "execution_count": null,
      "outputs": []
    },
    {
      "cell_type": "markdown",
      "source": [
        "**Exercise 1**\n",
        "\n",
        "You collect exam scores from students in a new test preparation course. The data follows a normal distribution with a mean score (M) of 1150 and a standard deviation (SD) of 150. You want to know the probability that exam scores in your sample exceed 1380. You can find the probability value of this score using the normal distribution.\n"
      ],
      "metadata": {
        "id": "wOSGTXYw4IWy"
      }
    },
    {
      "cell_type": "code",
      "source": [
        "# write code here"
      ],
      "metadata": {
        "id": "AsUvaAGJ4dzR"
      },
      "execution_count": null,
      "outputs": []
    },
    {
      "cell_type": "markdown",
      "source": [
        "**Exercise 2** : In-class group assignment\n",
        "\n",
        "Use the dataset proteomics_data.csv\n",
        "\n",
        "data: https://raw.githubusercontent.com/Phorutai/deposited_csv_data/refs/heads/main/proteomics_data.csv\n",
        "\n",
        "The log2 fold change refers to the ratio of protein expression levels between the treatment and control groups. A positive value indicates an increase in protein expression in the treatment group, while a negative value suggests a decrease. Larger absolute log2 fold change values indicate a substantial difference in protein expression levels between the two groups.\n",
        "1. Create a histogram plot to see the distribution of log2 fold change. Discuss with your team members what information you can extract from the histogram plot\n",
        "2. Compute the probability for the values in the column log2 fold change by using the probability density function (PDF).\n",
        "3. Create a density plot between the values of log2 fold change and their probability.\n",
        "\n",
        "From the PDF density plot, what information you can extract? does the density plot agree with the histogram? Briefly justify your answer. Submit the images of the histogram and PDF plots to In-class activity# 1 on Canvas\n"
      ],
      "metadata": {
        "id": "uRAvKgJD5NN1"
      }
    },
    {
      "cell_type": "code",
      "source": [
        "data = 'https://raw.githubusercontent.com/Phorutai/deposited_csv_data/refs/heads/main/proteomics_data.csv'\n",
        "df = pd.read_csv(data)\n",
        "log2 = df.loc[:,'log2FC (treat:ctrl)']"
      ],
      "metadata": {
        "id": "u7ZGZcsP6ply"
      },
      "execution_count": null,
      "outputs": []
    },
    {
      "cell_type": "code",
      "source": [
        "# Histogram\n",
        "sns.histplot(data=df, x=log2)\n",
        "plt.show()"
      ],
      "metadata": {
        "id": "9fGvNaYI7d96"
      },
      "execution_count": null,
      "outputs": []
    },
    {
      "cell_type": "code",
      "source": [
        "# PDF and Denstity plot\n",
        "pdf = norm.pdf(log2, loc=np.mean(log2), scale=np.std(log2))\n",
        "df_out = pd.DataFrame()\n",
        "df_out['log2'] = log2\n",
        "df_out['PDF'] = pdf\n",
        "sns.lineplot(data=df_out, x='log2', y='PDF')\n",
        "plt.show()"
      ],
      "metadata": {
        "id": "VQyXGcNU7zVq"
      },
      "execution_count": null,
      "outputs": []
    }
  ]
}