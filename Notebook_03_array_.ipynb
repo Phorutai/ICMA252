{
  "nbformat": 4,
  "nbformat_minor": 0,
  "metadata": {
    "colab": {
      "provenance": [],
      "toc_visible": true,
      "authorship_tag": "ABX9TyOi3gh+7fpxjeMoPonWQGlh",
      "include_colab_link": true
    },
    "kernelspec": {
      "name": "python3",
      "display_name": "Python 3"
    },
    "language_info": {
      "name": "python"
    }
  },
  "cells": [
    {
      "cell_type": "markdown",
      "metadata": {
        "id": "view-in-github",
        "colab_type": "text"
      },
      "source": [
        "<a href=\"https://colab.research.google.com/github/Phorutai/ICMA252/blob/main/Notebook_03_array_.ipynb\" target=\"_parent\"><img src=\"https://colab.research.google.com/assets/colab-badge.svg\" alt=\"Open In Colab\"/></a>"
      ]
    },
    {
      "cell_type": "markdown",
      "source": [
        "# **Arrays in Python**\n",
        "\n",
        "\n",
        "*   An array is a special variable, which are used to store multiple values in one single variable\n",
        "*   You can access the values by referring to an index number\n",
        "*   The arrays are especially useful when you have to process the data dynamically\n",
        "*   List, Numpy array, Dictionary"
      ],
      "metadata": {
        "id": "1pcKOBhrtc2E"
      }
    },
    {
      "cell_type": "markdown",
      "source": [
        "# **List**\n",
        "*  Store multiple items in a single variable\n",
        "*  Lists are created using square brackets '[]'\n",
        "*  List items are separated by commas ','\n",
        "*  Items are ordered, changeable, and allow duplicate values.\n",
        "*  List items are indexed, the first item has index [0], the second item has index [1], and so on.\n",
        "\n",
        "\n",
        "\n",
        "\n"
      ],
      "metadata": {
        "id": "J9QFmEb3usP4"
      }
    },
    {
      "cell_type": "code",
      "execution_count": 2,
      "metadata": {
        "colab": {
          "base_uri": "https://localhost:8080/"
        },
        "id": "MsI6n7rMrr6R",
        "outputId": "adce472c-3a62-4b24-ebf4-dfe98fee2e1b"
      },
      "outputs": [
        {
          "output_type": "execute_result",
          "data": {
            "text/plain": [
              "[67, 78, 94, 45, 55]"
            ]
          },
          "metadata": {},
          "execution_count": 2
        }
      ],
      "source": [
        "list1 = [67, 78, 94, 45, 55]\n",
        "# It is also possible to use the list() constructor when creating a new list.\n",
        "# list2 = list((67, 78, 94, 45, 55))\n",
        "list1"
      ]
    },
    {
      "cell_type": "markdown",
      "source": [
        "**Python list indexing**\n",
        "*   Positive indexes\n",
        "*   Negative indexes\n",
        "\n",
        "\n"
      ],
      "metadata": {
        "id": "Ur54DSV4wmje"
      }
    },
    {
      "cell_type": "code",
      "source": [
        "# From list1, write code to get items 1, 3, 5 by using positive indexes\n",
        "pos_item1 = list1[0]\n",
        "pos_item2 = list1[2]\n",
        "pos_item3 = list1[4]\n",
        "print(pos_item1, pos_item2, pos_item3)"
      ],
      "metadata": {
        "id": "bzXuPN-jwhlk"
      },
      "execution_count": null,
      "outputs": []
    },
    {
      "cell_type": "code",
      "source": [
        "# From list1, write code to get items 1, 3, 5 by using negative indexes\n",
        "neg_item1 = list1[-5]\n",
        "neg_item2 = list1[-3]\n",
        "neg_item3 = list1[-1]\n",
        "print(pos_item1, pos_item2, pos_item3)"
      ],
      "metadata": {
        "id": "HbpQh_Re7rIS"
      },
      "execution_count": null,
      "outputs": []
    },
    {
      "cell_type": "markdown",
      "source": [
        "**Python list slicing**\n",
        "\n",
        "\n",
        "*  A sliceing operator, colon(:)\n",
        "*  Slicing format Lst[initial:end:step] (By default step is 1, if you do not put the step, python will assume it is 1)\n",
        "\n",
        "\n"
      ],
      "metadata": {
        "id": "3TynIuk37-xJ"
      }
    },
    {
      "cell_type": "code",
      "source": [
        "list2 = [50, 70, 30, 20, 90, 10, 50 ]\n",
        "list2"
      ],
      "metadata": {
        "colab": {
          "base_uri": "https://localhost:8080/"
        },
        "id": "BB-elafM9A34",
        "outputId": "f3ad63e0-438e-44ce-80ec-389fbfd71c39"
      },
      "execution_count": 3,
      "outputs": [
        {
          "output_type": "execute_result",
          "data": {
            "text/plain": [
              "[50, 70, 30, 20, 90, 10, 50]"
            ]
          },
          "metadata": {},
          "execution_count": 3
        }
      ]
    },
    {
      "cell_type": "code",
      "source": [
        "# slice to get a new list with items 2-4\n",
        "new1 = list2[1:5]\n",
        "new1"
      ],
      "metadata": {
        "colab": {
          "base_uri": "https://localhost:8080/"
        },
        "id": "fWWhGikk9TSM",
        "outputId": "75c29408-ed39-4432-a850-09a6c4e19657"
      },
      "execution_count": 4,
      "outputs": [
        {
          "output_type": "execute_result",
          "data": {
            "text/plain": [
              "[70, 30, 20, 90]"
            ]
          },
          "metadata": {},
          "execution_count": 4
        }
      ]
    },
    {
      "cell_type": "code",
      "source": [
        "# slice from item 2 the last item (item 7)\n",
        "new2 = list2[1:7]\n",
        "new2"
      ],
      "metadata": {
        "colab": {
          "base_uri": "https://localhost:8080/"
        },
        "id": "Maglz74S9mMq",
        "outputId": "a00f9c30-ca45-4a65-cc05-d93eb23b07e2"
      },
      "execution_count": 6,
      "outputs": [
        {
          "output_type": "execute_result",
          "data": {
            "text/plain": [
              "[70, 30, 20, 90, 10]"
            ]
          },
          "metadata": {},
          "execution_count": 6
        }
      ]
    },
    {
      "cell_type": "code",
      "source": [
        "# get the whole by slcing\n",
        "whole = list2[:]  # naked colon means get from the begining to the last\n",
        "whole"
      ],
      "metadata": {
        "id": "lI1q2beH-SWX"
      },
      "execution_count": null,
      "outputs": []
    },
    {
      "cell_type": "markdown",
      "source": [
        "Try running the code below and explain how it works\n",
        "- list2[:4]\n",
        "- list2[3:]\n",
        "- list[::2]"
      ],
      "metadata": {
        "id": "L0tU_m0B-yE_"
      }
    },
    {
      "cell_type": "code",
      "source": [
        "# write code here. Feel free to add more cell code."
      ],
      "metadata": {
        "id": "Wp6vccCaCwvK"
      },
      "execution_count": null,
      "outputs": []
    },
    {
      "cell_type": "markdown",
      "source": [
        "**List methods**\n",
        "- Changinh a value\n",
        "- append()\n",
        "- extend()\n",
        "- insert()\n",
        "- Delete: remove(), del()\n",
        "- Sorted values\n"
      ],
      "metadata": {
        "id": "ojCzBlVJCLNk"
      }
    },
    {
      "cell_type": "code",
      "source": [
        "list1 = [67, 78, 94, 45, 55]\n",
        "list1"
      ],
      "metadata": {
        "colab": {
          "base_uri": "https://localhost:8080/"
        },
        "id": "IVH0BiPeDG5D",
        "outputId": "a4305455-3f93-44e0-fe6b-77049dbae46d"
      },
      "execution_count": 11,
      "outputs": [
        {
          "output_type": "execute_result",
          "data": {
            "text/plain": [
              "[67, 78, 94, 45, 55]"
            ]
          },
          "metadata": {},
          "execution_count": 11
        }
      ]
    },
    {
      "cell_type": "code",
      "source": [
        "# changeing a value in a list\n",
        "list1[2] = 90\n",
        "list1"
      ],
      "metadata": {
        "colab": {
          "base_uri": "https://localhost:8080/"
        },
        "id": "oEbyzqyPCulL",
        "outputId": "2c63c370-21a0-4e51-c30c-469a0047f63f"
      },
      "execution_count": 4,
      "outputs": [
        {
          "output_type": "execute_result",
          "data": {
            "text/plain": [
              "[67, 78, 90, 45, 55]"
            ]
          },
          "metadata": {},
          "execution_count": 4
        }
      ]
    },
    {
      "cell_type": "code",
      "source": [
        "# add values to the end of a list using the append() method\n",
        "list1.append(32)\n",
        "list1"
      ],
      "metadata": {
        "colab": {
          "base_uri": "https://localhost:8080/"
        },
        "id": "uAZhb1wrDmYa",
        "outputId": "85a570e8-796a-41e8-d72b-240eb989ef82"
      },
      "execution_count": 5,
      "outputs": [
        {
          "output_type": "execute_result",
          "data": {
            "text/plain": [
              "[67, 78, 90, 45, 55, 32]"
            ]
          },
          "metadata": {},
          "execution_count": 5
        }
      ]
    },
    {
      "cell_type": "code",
      "source": [
        "# append another list using the extend() method\n",
        "list3 = [54, 73, 65]\n",
        "list1.extend(list3)\n",
        "list1"
      ],
      "metadata": {
        "colab": {
          "base_uri": "https://localhost:8080/"
        },
        "id": "iHgA3fbVD6IX",
        "outputId": "4b6567c8-891b-4b67-b107-33f5413c903a"
      },
      "execution_count": 12,
      "outputs": [
        {
          "output_type": "execute_result",
          "data": {
            "text/plain": [
              "[67, 78, 94, 45, 55, 54, 73, 65]"
            ]
          },
          "metadata": {},
          "execution_count": 12
        }
      ]
    },
    {
      "cell_type": "code",
      "source": [
        "# insert an item at a given index\n",
        "list1.insert(4, 90)\n",
        "list1"
      ],
      "metadata": {
        "colab": {
          "base_uri": "https://localhost:8080/"
        },
        "id": "EFTDXY6CFUrr",
        "outputId": "052f97c1-55c4-4530-8b58-83328e2d6af7"
      },
      "execution_count": 13,
      "outputs": [
        {
          "output_type": "execute_result",
          "data": {
            "text/plain": [
              "[67, 78, 94, 45, 90, 55, 54, 73, 65]"
            ]
          },
          "metadata": {},
          "execution_count": 13
        }
      ]
    },
    {
      "cell_type": "code",
      "source": [
        "# remove an intem in a list by indicating the value of an item\n",
        "list1.remove(78)\n",
        "list1"
      ],
      "metadata": {
        "colab": {
          "base_uri": "https://localhost:8080/"
        },
        "id": "820Vsc0EFtMf",
        "outputId": "d88e8240-c9f4-43d6-ab10-cf0c9f8722f0"
      },
      "execution_count": 14,
      "outputs": [
        {
          "output_type": "execute_result",
          "data": {
            "text/plain": [
              "[67, 94, 45, 90, 55, 54, 73, 65]"
            ]
          },
          "metadata": {},
          "execution_count": 14
        }
      ]
    },
    {
      "cell_type": "code",
      "source": [
        "# remove an intem in a list by indicating the index of an item\n",
        "del list1[3]\n",
        "list1"
      ],
      "metadata": {
        "colab": {
          "base_uri": "https://localhost:8080/"
        },
        "id": "3nqgs-lvGGJm",
        "outputId": "07bf287b-9bfb-466b-9308-5cf9f10d34cb"
      },
      "execution_count": 15,
      "outputs": [
        {
          "output_type": "execute_result",
          "data": {
            "text/plain": [
              "[67, 94, 45, 55, 54, 73, 65]"
            ]
          },
          "metadata": {},
          "execution_count": 15
        }
      ]
    },
    {
      "cell_type": "markdown",
      "source": [
        "**Exercise 4: List**\n",
        "\n",
        "Data1 = [24, 27, 34, 40, 32, 35, 18]\n",
        "Data2 = [34, 24, 39, 26, 37]\n",
        "1. Add a new score, 34, to Data1, and print the whole list after adding\n",
        "2. Add Data 2 to Data 1\n",
        "3. Write the code to find the numbers of items 2-6\n",
        "4. Insert a number 10 at the position 3\n",
        "5. Remove the score at index 5 and keep the list after removing in the variable name “removed_data”\n",
        "6. Sort the list from item 4 from big to small\n",
        "7. Find the numbers of scores in the list using len() function\n",
        "\n",
        "How many numbers in a list? What are those numbers?\n",
        "\n"
      ],
      "metadata": {
        "id": "6kaG2PFSGn-U"
      }
    },
    {
      "cell_type": "code",
      "source": [
        "# write code here. Feel free to add more cell code."
      ],
      "metadata": {
        "id": "WNOJAp4fH0eH"
      },
      "execution_count": null,
      "outputs": []
    },
    {
      "cell_type": "markdown",
      "source": [
        "# **NumPy array**\n",
        "- A numpy array is a grid of values, all of the same type, and is indexed by a coordination (row, column) of non-negative integers\n",
        "- It provides a high-performance multidimensional array object\n",
        "-  We can initialize numpy arrays from nested Python lists, and access elements using square brackets\n",
        "- Need to import numpy before calling functions in numpy module"
      ],
      "metadata": {
        "id": "kS3ClHzpIATy"
      }
    },
    {
      "cell_type": "code",
      "source": [
        "# import numpy module as a nickname of np, so after this you can use np to refer to numpy\n",
        "import numpy as np"
      ],
      "metadata": {
        "id": "AptXLTHChWnF"
      },
      "execution_count": 16,
      "outputs": []
    },
    {
      "cell_type": "code",
      "source": [
        "# 1D array\n",
        "array1 = np.array([1, 2, 3]) # create a 1-D array\n",
        "array1"
      ],
      "metadata": {
        "colab": {
          "base_uri": "https://localhost:8080/"
        },
        "id": "BHsKF57IiC6S",
        "outputId": "b05e566d-9ce9-4c7c-e2f7-27a862550b15"
      },
      "execution_count": 17,
      "outputs": [
        {
          "output_type": "execute_result",
          "data": {
            "text/plain": [
              "array([1, 2, 3])"
            ]
          },
          "metadata": {},
          "execution_count": 17
        }
      ]
    },
    {
      "cell_type": "code",
      "source": [
        "# 1D array\n",
        "type(array1) # check object type"
      ],
      "metadata": {
        "colab": {
          "base_uri": "https://localhost:8080/"
        },
        "id": "7oyLFS-9ibjp",
        "outputId": "18b78f71-be43-47bc-b547-96c46af6de8c"
      },
      "execution_count": 18,
      "outputs": [
        {
          "output_type": "execute_result",
          "data": {
            "text/plain": [
              "numpy.ndarray"
            ]
          },
          "metadata": {},
          "execution_count": 18
        }
      ]
    },
    {
      "cell_type": "code",
      "source": [
        "# 1D array\n",
        "array1.shape # check the dimension shape of an array"
      ],
      "metadata": {
        "colab": {
          "base_uri": "https://localhost:8080/"
        },
        "id": "KpMJ1oyDilej",
        "outputId": "e4104866-5166-44a9-b1c9-9c0e21bd9976"
      },
      "execution_count": 20,
      "outputs": [
        {
          "output_type": "execute_result",
          "data": {
            "text/plain": [
              "(3,)"
            ]
          },
          "metadata": {},
          "execution_count": 20
        }
      ]
    },
    {
      "cell_type": "code",
      "source": [
        "# 1D array\n",
        "a1_i0 = array1[0] # index the fist item in an array\n",
        "a1_i0"
      ],
      "metadata": {
        "colab": {
          "base_uri": "https://localhost:8080/"
        },
        "id": "UBebbnLqi-o8",
        "outputId": "d6e36177-8c00-4582-ebc9-6af320e3ca0a"
      },
      "execution_count": 21,
      "outputs": [
        {
          "output_type": "execute_result",
          "data": {
            "text/plain": [
              "1"
            ]
          },
          "metadata": {},
          "execution_count": 21
        }
      ]
    },
    {
      "cell_type": "code",
      "source": [
        "# 1D array\n",
        "array1[0] = 5 # change the value of an item at the index 5\n",
        "array1"
      ],
      "metadata": {
        "colab": {
          "base_uri": "https://localhost:8080/"
        },
        "id": "4BU2_GWOjSFH",
        "outputId": "cdae9a82-e7a9-4b83-b823-a21486bd17ec"
      },
      "execution_count": 22,
      "outputs": [
        {
          "output_type": "execute_result",
          "data": {
            "text/plain": [
              "array([5, 2, 3])"
            ]
          },
          "metadata": {},
          "execution_count": 22
        }
      ]
    },
    {
      "cell_type": "code",
      "source": [
        "# 2D array\n",
        "array2 = np.array([[1,2,3],[4,5,6]]) # create a 2-D array\n",
        "array2"
      ],
      "metadata": {
        "id": "pXuYrQPHj14y"
      },
      "execution_count": null,
      "outputs": []
    },
    {
      "cell_type": "code",
      "source": [
        "# 2D array\n",
        "array2.shape"
      ],
      "metadata": {
        "id": "35Puau7rl8Xe"
      },
      "execution_count": null,
      "outputs": []
    },
    {
      "cell_type": "code",
      "source": [
        "# 2D array\n",
        "a2_i0 = array2[0,0] # [row_id, column_id]\n",
        "a2_i0\n",
        "# try indexing other items"
      ],
      "metadata": {
        "id": "KxRazCBcmHwB"
      },
      "execution_count": null,
      "outputs": []
    },
    {
      "cell_type": "markdown",
      "source": [
        "**Array indexing** is similar to Python lists, numpy arrays can be sliced. Since arrays may be multidimensional, you must specify a slice for each dimension of the array"
      ],
      "metadata": {
        "id": "ltsy9Q4GmrAV"
      }
    },
    {
      "cell_type": "code",
      "source": [
        "# Create the following rank 2 array with shape (3, 4)\n",
        "array3 = np.array([[1,2,3,4], [5,6,7,8], [9,10,11,12]])\n",
        "array3"
      ],
      "metadata": {
        "colab": {
          "base_uri": "https://localhost:8080/"
        },
        "id": "60tdCyW4m-IL",
        "outputId": "3cc5aa7a-3ac9-4505-f0aa-8d55959522be"
      },
      "execution_count": 23,
      "outputs": [
        {
          "output_type": "execute_result",
          "data": {
            "text/plain": [
              "array([[ 1,  2,  3,  4],\n",
              "       [ 5,  6,  7,  8],\n",
              "       [ 9, 10, 11, 12]])"
            ]
          },
          "metadata": {},
          "execution_count": 23
        }
      ]
    },
    {
      "cell_type": "code",
      "source": [
        "array3_slice = array3[:2, 1:3] # Use slicing to pull out the subarray\n",
        "array3_slice"
      ],
      "metadata": {
        "colab": {
          "base_uri": "https://localhost:8080/"
        },
        "id": "xFssLgi_nVkS",
        "outputId": "95cf92aa-be7e-400c-87b5-6cdabb3258ce"
      },
      "execution_count": 24,
      "outputs": [
        {
          "output_type": "execute_result",
          "data": {
            "text/plain": [
              "array([[2, 3],\n",
              "       [6, 7]])"
            ]
          },
          "metadata": {},
          "execution_count": 24
        }
      ]
    },
    {
      "cell_type": "markdown",
      "source": [
        "**Exercise 5: Numpy array**\n",
        "1. Create a 2D array from the table\n",
        "\n",
        "![Picture1.png](data:image/png;base64,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)\n",
        "2. Write python code to slicing the subarray to get the output below\n",
        "\n",
        "  [[ 2  3  4]\n",
        "\n",
        "   [ 4  9 16]]"
      ],
      "metadata": {
        "id": "xXJvyUBCoiJD"
      }
    },
    {
      "cell_type": "code",
      "source": [
        "# write code here. Feel free to add more cell code."
      ],
      "metadata": {
        "id": "5ciOxRPhohUx"
      },
      "execution_count": null,
      "outputs": []
    },
    {
      "cell_type": "markdown",
      "source": [
        "# **Dictionary**\n",
        "- Dictionaries are a lookup key-value system:\n",
        "- Very similar to a list except the index is replaced by a defined key\n",
        "- keys must be unique\n",
        "- {A dictionary: Value_lookup} = {\"Apple\" : \"Pie\", \"Banana\" : \"split\", 3 : 60}"
      ],
      "metadata": {
        "id": "Rw-o3avlrZqg"
      }
    },
    {
      "cell_type": "code",
      "source": [
        "# create a dictionary with 2 items\n",
        "student_record = {20071213:'Andy Jones', 20081423:'John Smith'}\n",
        "student_record"
      ],
      "metadata": {
        "id": "VR05OWyusYm4"
      },
      "execution_count": null,
      "outputs": []
    },
    {
      "cell_type": "code",
      "source": [
        "# add an item of a pair of key-value in a dictionary\n",
        "student_record[20096317] = 'Jane Doe'\n",
        "student_record"
      ],
      "metadata": {
        "id": "UR7FEsxltA5E"
      },
      "execution_count": null,
      "outputs": []
    },
    {
      "cell_type": "code",
      "source": [
        "# get a student name by an ID number\n",
        "student_record[20081423]"
      ],
      "metadata": {
        "id": "hByWgNIotS5E"
      },
      "execution_count": null,
      "outputs": []
    },
    {
      "cell_type": "markdown",
      "source": [
        "**keys() and values() methods**\n",
        "- The keys() method returns all key items that can be looped through like a list or turned into a list\n",
        "- The values() method returns all value items that can be looped through like a list or turned into a list"
      ],
      "metadata": {
        "id": "OqYbBfdsvJZw"
      }
    },
    {
      "cell_type": "code",
      "source": [
        "# get all key items\n",
        "key_item = student_record.keys()\n",
        "key_item"
      ],
      "metadata": {
        "id": "cUMObW3lvVyi"
      },
      "execution_count": null,
      "outputs": []
    },
    {
      "cell_type": "code",
      "source": [
        "# check opject type\n",
        "type(key_item)"
      ],
      "metadata": {
        "id": "2UzOOk7AwgPJ"
      },
      "execution_count": null,
      "outputs": []
    },
    {
      "cell_type": "code",
      "source": [
        "# get all value items\n",
        "value_item = student_record.values()\n",
        "value_item"
      ],
      "metadata": {
        "id": "3EO0KG73w9fp"
      },
      "execution_count": null,
      "outputs": []
    },
    {
      "cell_type": "code",
      "source": [
        "# check opject type\n",
        "type(value_item)"
      ],
      "metadata": {
        "id": "LZ-GGXD1xsan"
      },
      "execution_count": null,
      "outputs": []
    },
    {
      "cell_type": "code",
      "source": [
        "# write code here to convert key_item amd value_item to list, and find the number of items in student_record"
      ],
      "metadata": {
        "id": "bgoES3FqxLyk"
      },
      "execution_count": null,
      "outputs": []
    },
    {
      "cell_type": "markdown",
      "source": [
        "**Exercises 6: Dictionary**\n",
        "1. Create the dictionary from the table\n",
        "\n",
        "![Picture2.png](data:image/png;base64,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)\n",
        "2. Add blue colour with its RGB code (#0000FF) to the dictionary\n",
        "3. Write python code to get only values from the dictionary and convert them as a list\n",
        "4. Find a size of dictionary (How many itemns?)"
      ],
      "metadata": {
        "id": "tMSDjRLhx5QR"
      }
    },
    {
      "cell_type": "code",
      "source": [
        "# write code here. Feel free to add more cell code."
      ],
      "metadata": {
        "id": "bJb3rBdqylkQ"
      },
      "execution_count": null,
      "outputs": []
    },
    {
      "cell_type": "markdown",
      "source": [],
      "metadata": {
        "id": "SbBqa5pHxb-z"
      }
    }
  ]
}