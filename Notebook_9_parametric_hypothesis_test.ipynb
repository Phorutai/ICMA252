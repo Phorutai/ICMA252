{
  "nbformat": 4,
  "nbformat_minor": 0,
  "metadata": {
    "colab": {
      "provenance": [],
      "include_colab_link": true
    },
    "kernelspec": {
      "name": "python3",
      "display_name": "Python 3"
    },
    "language_info": {
      "name": "python"
    }
  },
  "cells": [
    {
      "cell_type": "markdown",
      "metadata": {
        "id": "view-in-github",
        "colab_type": "text"
      },
      "source": [
        "<a href=\"https://colab.research.google.com/github/Phorutai/ICMA252/blob/main/Notebook_9_parametric_hypothesis_test.ipynb\" target=\"_parent\"><img src=\"https://colab.research.google.com/assets/colab-badge.svg\" alt=\"Open In Colab\"/></a>"
      ]
    },
    {
      "cell_type": "code",
      "source": [
        "from scipy import stats\n",
        "import matplotlib.pyplot as plt\n",
        "import numpy as np"
      ],
      "metadata": {
        "id": "X8ox1AgUBeHO"
      },
      "execution_count": null,
      "outputs": []
    },
    {
      "cell_type": "markdown",
      "source": [
        "**Exercise 1: One sample t-test**\n",
        "\n",
        "Based on field experiments, a new variety green gram is expected to given a yield of 12.0 quintals per hectare. The variety was tested on 10 randomly selected farmers fields. The yield (quintals/hectare) were recorded as\n",
        "14.3, 12.6, 13.7, 10.9, 13.7, 12.0, 11.4, 12.0, 12.6, 13.1.\n",
        "Do the results confirm the expectation? Test the claim at the 0.05 significance level.\n",
        "\n",
        "H0:\n",
        "\n",
        "H1:"
      ],
      "metadata": {
        "id": "LTohebg5Auh2"
      }
    },
    {
      "cell_type": "code",
      "execution_count": null,
      "metadata": {
        "id": "7LESH5PL8dzx",
        "colab": {
          "base_uri": "https://localhost:8080/"
        },
        "outputId": "0c290bbf-f368-4a47-902f-b1a2972a65a4"
      },
      "outputs": [
        {
          "output_type": "execute_result",
          "data": {
            "text/plain": [
              "TtestResult(statistic=1.8356436949305335, pvalue=0.0995987600465333, df=9)"
            ]
          },
          "metadata": {},
          "execution_count": 3
        }
      ],
      "source": [
        "\"\"\"\n",
        "one sample t-test\n",
        "\"\"\"\n",
        "data = [14.3, 12.6, 13.7, 10.9, 13.7, 12.0, 11.4, 12.0, 12.6, 13.1]\n",
        "exp_mean = 12.0\n",
        "one_ttest = stats.ttest_1samp(data, exp_mean, alternative='two-sided')\n",
        "one_ttest\n"
      ]
    },
    {
      "cell_type": "markdown",
      "source": [
        "**Infer the result from hypothesis testing**\n",
        "\n",
        "P-value = ...\n",
        "\n",
        "**Conclusion**\n",
        "\n",
        "..."
      ],
      "metadata": {
        "id": "nLGYtkQPu8wG"
      }
    },
    {
      "cell_type": "markdown",
      "source": [
        "From Exercise 1, create a bar plot to comapre the sample's mean and the standard's mean."
      ],
      "metadata": {
        "id": "BQP7RQO1NNSY"
      }
    },
    {
      "cell_type": "code",
      "source": [
        "plt.bar(['Mean data', 'Expected mean'], [np.mean(data), exp_mean])\n",
        "plt.show()\n"
      ],
      "metadata": {
        "id": "-MfAY7CBO4nG",
        "colab": {
          "base_uri": "https://localhost:8080/",
          "height": 430
        },
        "outputId": "d7a9cf47-2354-4ca8-abc8-82832583cdf0"
      },
      "execution_count": null,
      "outputs": [
        {
          "output_type": "display_data",
          "data": {
            "text/plain": [
              "<Figure size 640x480 with 1 Axes>"
            ],
            "image/png": "[encoded data removed]"
          },
          "metadata": {}
        }
      ]
    },
    {
      "cell_type": "markdown",
      "source": [
        "**Exercise 2: Independent t-test**\n",
        "\n",
        "A group of 5 patients treated with medicine A is of weight 42, 39, 38, 60, 41 kgs. Second\n",
        "group of 7 patients from the same hospital treated with medicine B is of weight 38, 42,\n",
        "56, 64, 68, 69, 62 kgs. Find whether there is any difference between medicines? Test the claim at the 0.05 significance level.\n",
        "\n",
        "H0:\n",
        "\n",
        "H1:"
      ],
      "metadata": {
        "id": "0epR179ZB_po"
      }
    },
    {
      "cell_type": "code",
      "source": [
        "\"\"\"\n",
        "Independent t-test\n",
        "\"\"\"\n",
        "med_a = [42, 39, 38, 60, 41]\n",
        "med_b = [38, 42, 56, 64, 68, 69, 62]\n",
        "test_result = stats.ttest_ind(med_a, med_b, alternative='two-sided')\n",
        "test_result\n"
      ],
      "metadata": {
        "id": "0TWOgUSRCmmc",
        "colab": {
          "base_uri": "https://localhost:8080/"
        },
        "outputId": "5da98e05-848f-405f-cbc9-bed96f327531"
      },
      "execution_count": null,
      "outputs": [
        {
          "output_type": "execute_result",
          "data": {
            "text/plain": [
              "TtestResult(statistic=-1.9810340112465257, pvalue=0.07574227542910623, df=10.0)"
            ]
          },
          "metadata": {},
          "execution_count": 4
        }
      ]
    },
    {
      "cell_type": "markdown",
      "source": [
        "**Infer the result from hypothesis testing**\n",
        "\n",
        "p-value = ...\n",
        "\n",
        "**Conclusion**\n",
        "\n",
        "..."
      ],
      "metadata": {
        "id": "KfZkHwJGw_IB"
      }
    },
    {
      "cell_type": "markdown",
      "source": [
        "From the exercise 2, create a bar plot to represent the values of mean with standard divation of medicine A and B."
      ],
      "metadata": {
        "id": "QDv-40jtzswN"
      }
    },
    {
      "cell_type": "code",
      "source": [
        "import matplotlib.pyplot as plt\n",
        "import numpy as np\n",
        "mean_a = np.mean(med_a)\n",
        "mean_b = np.mean(med_b)\n",
        "std_a = np.std(med_b)\n",
        "std_b = np.std(med_b)\n",
        "plt.bar(['Med A', 'Med B'], [mean_a, mean_b], yerr=[std_a, std_b])\n",
        "plt.show()"
      ],
      "metadata": {
        "id": "5HyNiV1xz6gO",
        "colab": {
          "base_uri": "https://localhost:8080/",
          "height": 430
        },
        "outputId": "ae241052-b4a0-4e5a-b5c2-60ff19652641"
      },
      "execution_count": null,
      "outputs": [
        {
          "output_type": "display_data",
          "data": {
            "text/plain": [
              "<Figure size 640x480 with 1 Axes>"
            ],
            "image/png": "[encoded data removed]"
          },
          "metadata": {}
        }
      ]
    },
    {
      "cell_type": "markdown",
      "source": [
        "**Exercise 3: Paired t-test**\n",
        "\n",
        "In certain food experiment to compare two types of baby foods A and B, the\n",
        "following results of increase in weight (lbs) we observed in 8 children as follows.\n",
        "\n",
        "Food A = [49, 53, 51, 52, 47, 50, 52, 53]\n",
        "\n",
        "Food B = [52, 55, 52, 53, 50, 54, 54, 53]\n",
        "\n",
        "Examine the significance of increase in weight of children due to food B. Test the claim at the 0.05 significance level.\n",
        "\n",
        "H0:\n",
        "\n",
        "H1:"
      ],
      "metadata": {
        "id": "fpHsUSJZCtSW"
      }
    },
    {
      "cell_type": "code",
      "source": [
        "\"\"\"\n",
        "Paired t-test\n",
        "\"\"\"\n",
        "FoodA = [49, 53, 51, 52, 47, 50, 52, 53]\n",
        "FoodB = [52, 55, 52, 53, 50, 54, 54, 53]\n",
        "from scipy import stats\n",
        "result = stats.ttest_rel(FoodA, FoodB, alternative='greater')\n",
        "result"
      ],
      "metadata": {
        "id": "YFfoNdcgDQFP",
        "colab": {
          "base_uri": "https://localhost:8080/"
        },
        "outputId": "8bdf28cc-8399-4243-f94a-02a86595ba60"
      },
      "execution_count": null,
      "outputs": [
        {
          "output_type": "execute_result",
          "data": {
            "text/plain": [
              "TtestResult(statistic=-4.320493798938574, pvalue=0.9982609578674986, df=7)"
            ]
          },
          "metadata": {},
          "execution_count": 13
        }
      ]
    },
    {
      "cell_type": "markdown",
      "source": [
        "**Infer the result from hypothesis testing**\n",
        "\n",
        "p-value = ...\n",
        "\n",
        "**Conclusion**\n",
        "\n",
        "..."
      ],
      "metadata": {
        "id": "dm6yNjSa2RCF"
      }
    },
    {
      "cell_type": "markdown",
      "source": [
        "From Exercise 3, creat a bar plot with the error bar to represent the mean and standard deviation of data from Food A and Food B."
      ],
      "metadata": {
        "id": "eBXrV9AyEpw4"
      }
    },
    {
      "cell_type": "code",
      "source": [
        "\"\"\"\n",
        "Write code to create a bar plot for Excerise 3\n",
        "\"\"\"\n",
        "# means and std\n",
        "mean_A = np.mean(FoodA)\n",
        "mean_B = np.mean(FoodB)\n",
        "\n",
        "std_A = np.std(FoodA)\n",
        "std_B = np.std(FoodB)\n",
        "\n",
        "#create bar plot\n",
        "plt.bar(['FoodA','FoodB'], [mean_A,mean_B], yerr=[std_A, std_B])\n",
        "plt.ylabel('weight increase (lbs)')\n",
        "plt.show\n"
      ],
      "metadata": {
        "id": "kM7xIuUmE8_1",
        "colab": {
          "base_uri": "https://localhost:8080/",
          "height": 999
        },
        "outputId": "8c8bc935-b93f-451c-a2ad-8e136bc23f3e"
      },
      "execution_count": null,
      "outputs": [
        {
          "output_type": "execute_result",
          "data": {
            "text/plain": [
              "<function matplotlib.pyplot.show(close=None, block=None)>"
            ],
            "text/html": [
              "<div style=\"max-width:800px; border: 1px solid var(--colab-border-color);\"><style>\n",
              "      pre.function-repr-contents {\n",
              "        overflow-x: auto;\n",
              "        padding: 8px 12px;\n",
              "        max-height: 500px;\n",
              "      }\n",
              "\n",
              "      pre.function-repr-contents.function-repr-contents-collapsed {\n",
              "        cursor: pointer;\n",
              "        max-height: 100px;\n",
              "      }\n",
              "    </style>\n",
              "    <pre style=\"white-space: initial; background:\n",
              "         var(--colab-secondary-surface-color); padding: 8px 12px;\n",
              "         border-bottom: 1px solid var(--colab-border-color);\"><b>matplotlib.pyplot.show</b><br/>def show(*args, **kwargs)</pre><pre class=\"function-repr-contents function-repr-contents-collapsed\" style=\"\"><a class=\"filepath\" style=\"display:none\" href=\"#\">/usr/local/lib/python3.10/dist-packages/matplotlib/pyplot.py</a>Display all open figures.\n",
              "\n",
              "Parameters\n",
              "----------\n",
              "block : bool, optional\n",
              "    Whether to wait for all figures to be closed before returning.\n",
              "\n",
              "    If `True` block and run the GUI main loop until all figure windows\n",
              "    are closed.\n",
              "\n",
              "    If `False` ensure that all figure windows are displayed and return\n",
              "    immediately.  In this case, you are responsible for ensuring\n",
              "    that the event loop is running to have responsive figures.\n",
              "\n",
              "    Defaults to True in non-interactive mode and to False in interactive\n",
              "    mode (see `.pyplot.isinteractive`).\n",
              "\n",
              "See Also\n",
              "--------\n",
              "ion : Enable interactive mode, which shows / updates the figure after\n",
              "      every plotting command, so that calling ``show()`` is not necessary.\n",
              "ioff : Disable interactive mode.\n",
              "savefig : Save the figure to an image file instead of showing it on screen.\n",
              "\n",
              "Notes\n",
              "-----\n",
              "**Saving figures to file and showing a window at the same time**\n",
              "\n",
              "If you want an image file as well as a user interface window, use\n",
              "`.pyplot.savefig` before `.pyplot.show`. At the end of (a blocking)\n",
              "``show()`` the figure is closed and thus unregistered from pyplot. Calling\n",
              "`.pyplot.savefig` afterwards would save a new and thus empty figure. This\n",
              "limitation of command order does not apply if the show is non-blocking or\n",
              "if you keep a reference to the figure and use `.Figure.savefig`.\n",
              "\n",
              "**Auto-show in jupyter notebooks**\n",
              "\n",
              "The jupyter backends (activated via ``%matplotlib inline``,\n",
              "``%matplotlib notebook``, or ``%matplotlib widget``), call ``show()`` at\n",
              "the end of every cell by default. Thus, you usually don&#x27;t have to call it\n",
              "explicitly there.</pre>\n",
              "      <script>\n",
              "      if (google.colab.kernel.accessAllowed && google.colab.files && google.colab.files.view) {\n",
              "        for (const element of document.querySelectorAll('.filepath')) {\n",
              "          element.style.display = 'block'\n",
              "          element.onclick = (event) => {\n",
              "            event.preventDefault();\n",
              "            event.stopPropagation();\n",
              "            google.colab.files.view(element.textContent, 482);\n",
              "          };\n",
              "        }\n",
              "      }\n",
              "      for (const element of document.querySelectorAll('.function-repr-contents')) {\n",
              "        element.onclick = (event) => {\n",
              "          event.preventDefault();\n",
              "          event.stopPropagation();\n",
              "          element.classList.toggle('function-repr-contents-collapsed');\n",
              "        };\n",
              "      }\n",
              "      </script>\n",
              "      </div>"
            ]
          },
          "metadata": {},
          "execution_count": 8
        },
        {
          "output_type": "display_data",
          "data": {
            "text/plain": [
              "<Figure size 640x480 with 1 Axes>"
            ],
            "image/png": "[encoded data removed]"
          },
          "metadata": {}
        }
      ]
    },
    {
      "cell_type": "markdown",
      "source": [
        "**Exercise 4: One-way ANOOVA**\n",
        "\n",
        "Per-pupil costs (in thousands of dollars) for cyber charter school tuition for school districts in three areas are shown. Test the claim that there is a difference in means of per-pupil costs for cyber charter school tuition for the three areas, using an appropriate parametric test. Test the claim at the 0.05 significance level.\n",
        "\n",
        "Area 1 = [6.2, 9.3, 6.8, 6.1, 6.7, 7.5]\n",
        "\n",
        "Area 2 = [7.5, 8.2, 8.5, 8.2, 7.0, 7.5]\n",
        "\n",
        "Area 3 = [5.8, 6.4, 5.6, 7.1, 3.0, 3.5]\n",
        "\n",
        "H0:\n",
        "\n",
        "H1:"
      ],
      "metadata": {
        "id": "_ahLyUiLFGYp"
      }
    },
    {
      "cell_type": "code",
      "source": [
        "\"\"\"\n",
        "One-way ANOVA\n",
        "\"\"\"\n",
        "area1 = [6.2, 9.3, 6.8, 6.1, 6.7, 7.5]\n",
        "area2 = [7.5, 8.2, 8.5, 8.2, 7.0, 7.5]\n",
        "area3 = [5.8, 6.4, 5.6, 7.1, 3.0, 3.5]\n",
        "test_result =  stats.f_oneway(area1, area2, area3)\n",
        "test_result"
      ],
      "metadata": {
        "id": "crpDZDwkGALl",
        "colab": {
          "base_uri": "https://localhost:8080/"
        },
        "outputId": "4159c41a-bcbf-41cf-963c-e1bde32cb184"
      },
      "execution_count": null,
      "outputs": [
        {
          "output_type": "execute_result",
          "data": {
            "text/plain": [
              "F_onewayResult(statistic=7.282204867692774, pvalue=0.006164748287734665)"
            ]
          },
          "metadata": {},
          "execution_count": 9
        }
      ]
    },
    {
      "cell_type": "markdown",
      "source": [
        "**Infer the result from hypothesis testing**\n",
        "\n",
        "p-value = ...\n",
        "\n",
        "**Conclusion**\n",
        "\n",
        "..."
      ],
      "metadata": {
        "id": "IRELkEUa5UrP"
      }
    },
    {
      "cell_type": "markdown",
      "source": [
        "From Exercise 4, creat a bar plot with the error bar to represent the mean and standard deviation of data from three areas."
      ],
      "metadata": {
        "id": "lEtJyEhAIE5T"
      }
    },
    {
      "cell_type": "code",
      "source": [
        "\"\"\"\n",
        "A bar plot from Exercise 4\n",
        "\"\"\""
      ],
      "metadata": {
        "id": "8pSoJ_C4IhTO"
      },
      "execution_count": null,
      "outputs": []
    }
  ]
}