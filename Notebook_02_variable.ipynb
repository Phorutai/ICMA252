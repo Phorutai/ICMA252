{
  "nbformat": 4,
  "nbformat_minor": 0,
  "metadata": {
    "colab": {
      "provenance": [],
      "authorship_tag": "ABX9TyN3f1w1kedOkJWLN+fbbcLk",
      "include_colab_link": true
    },
    "kernelspec": {
      "name": "python3",
      "display_name": "Python 3"
    },
    "language_info": {
      "name": "python"
    }
  },
  "cells": [
    {
      "cell_type": "markdown",
      "metadata": {
        "id": "view-in-github",
        "colab_type": "text"
      },
      "source": [
        "<a href=\"https://colab.research.google.com/github/Phorutai/ICMA252/blob/main/Notebook_02_variable.ipynb\" target=\"_parent\"><img src=\"https://colab.research.google.com/assets/colab-badge.svg\" alt=\"Open In Colab\"/></a>"
      ]
    },
    {
      "cell_type": "markdown",
      "source": [
        "Review questions\n",
        "\n",
        "- What is variable in python?\n",
        "- Waht is an object type in python?\n",
        "- What are string, integer, and float, respectively?\n"
      ],
      "metadata": {
        "id": "QvQfhJkgNYoP"
      }
    },
    {
      "cell_type": "markdown",
      "source": [
        "Define the variable name to store data value.\n",
        "- Assigned a value using an equal symbol\n",
        "\n",
        "  i.e. variable_name = value\n",
        "- Can be any name BUT cannot have spaces and start with a number\n",
        "\n",
        "  i.e. cannot be 1a or my name\n"
      ],
      "metadata": {
        "id": "KZLQVfFTOKVW"
      }
    },
    {
      "cell_type": "code",
      "execution_count": null,
      "metadata": {
        "id": "AW5M6lDkLLAS"
      },
      "outputs": [],
      "source": [
        "# define a variable name message to store the word Hello World\n",
        "message = 'Hello world'\n",
        "print(message)"
      ]
    },
    {
      "cell_type": "code",
      "source": [
        "# define a variabke name x to the value of 5\n",
        "x = 5\n",
        "print(x)"
      ],
      "metadata": {
        "id": "NnX46f27Yeok"
      },
      "execution_count": null,
      "outputs": []
    },
    {
      "cell_type": "code",
      "source": [
        "# define a variabke name y to the value of 5.3741\n",
        "y = 5.3741\n",
        "print(y)"
      ],
      "metadata": {
        "id": "TTVnqtfrYuz0"
      },
      "execution_count": null,
      "outputs": []
    },
    {
      "cell_type": "code",
      "source": [
        "# check object type for variables mesaage, x, and y\n",
        "print(type(message))\n",
        "print(type(x))\n",
        "print(type(y))"
      ],
      "metadata": {
        "id": "TlibOYGlY_K0"
      },
      "execution_count": null,
      "outputs": []
    },
    {
      "cell_type": "markdown",
      "source": [
        "Exercise 2: Find the results and object types of the following problems\n",
        "1. 1+1\n",
        "2. str(1)+str(1)\n",
        "3. math.log10(1+1)"
      ],
      "metadata": {
        "id": "xa4OyprJarAO"
      }
    },
    {
      "cell_type": "code",
      "source": [
        "# 1+1\n",
        "\n",
        "ans1 = 1+1\n",
        "print(ans1)\n",
        "print(type(ans1))\n"
      ],
      "metadata": {
        "id": "iJHFuyhXZ6qT"
      },
      "execution_count": null,
      "outputs": []
    },
    {
      "cell_type": "code",
      "source": [
        "# str(1)+str(1)\n",
        "ans2 = str(1)+str(1)\n",
        "print(ans2)\n",
        "print(type(ans2))"
      ],
      "metadata": {
        "id": "YBaTLa4qa5F5"
      },
      "execution_count": null,
      "outputs": []
    },
    {
      "cell_type": "code",
      "source": [
        "import math  # we need to use log10() function from math module, need to import math before calling log10()\n",
        "ans3 = math.log2(1+1)\n",
        "print(ans3)\n",
        "print(type(ans3))"
      ],
      "metadata": {
        "id": "rdzrh5pWbBnL"
      },
      "execution_count": null,
      "outputs": []
    },
    {
      "cell_type": "markdown",
      "source": [
        "**Operation on variables**\n",
        "\n",
        "*   Arithmetic operation (+, -, *, /, **)\n",
        "*   Numerical operation\n",
        "*   Strin operation\n",
        "\n",
        "\n",
        "\n",
        "\n",
        "\n"
      ],
      "metadata": {
        "id": "v_3lOAeYctCa"
      }
    },
    {
      "cell_type": "code",
      "source": [
        "# numerical operation\n",
        "x = 12\n",
        "y = 4"
      ],
      "metadata": {
        "id": "PHc_bOAVjAH5"
      },
      "execution_count": null,
      "outputs": []
    },
    {
      "cell_type": "code",
      "source": [
        "a = x+y\n",
        "a"
      ],
      "metadata": {
        "id": "1ExqmwdqjGpv"
      },
      "execution_count": null,
      "outputs": []
    },
    {
      "cell_type": "code",
      "source": [
        "b = x*y\n",
        "b"
      ],
      "metadata": {
        "id": "dz8d0mukjJZ6"
      },
      "execution_count": null,
      "outputs": []
    },
    {
      "cell_type": "code",
      "source": [
        "c = x**y\n",
        "c"
      ],
      "metadata": {
        "id": "mpIqGR-QjLKX"
      },
      "execution_count": null,
      "outputs": []
    },
    {
      "cell_type": "code",
      "source": [
        "d = x/y\n",
        "d"
      ],
      "metadata": {
        "id": "v-FtaPRmjN1r"
      },
      "execution_count": null,
      "outputs": []
    },
    {
      "cell_type": "code",
      "source": [
        "# String operation\n",
        "first_name = 'Pear'\n",
        "last_name = 'Phojai'\n",
        "full_name = first_name + ' '+ last_name  # add ' ' to add a blank space between first and last names\n",
        "full_name"
      ],
      "metadata": {
        "id": "xG1bjJoajR_Y"
      },
      "execution_count": null,
      "outputs": []
    },
    {
      "cell_type": "code",
      "source": [
        "# Numericla and String operation\n",
        "n = 2\n",
        "word = 'ha'"
      ],
      "metadata": {
        "id": "VPAA-T1ullR4"
      },
      "execution_count": null,
      "outputs": []
    },
    {
      "cell_type": "code",
      "source": [
        "w1 = word * n\n",
        "w1"
      ],
      "metadata": {
        "id": "fGBngLOOl50O"
      },
      "execution_count": null,
      "outputs": []
    },
    {
      "cell_type": "code",
      "source": [
        "w2 = word + str(n)\n",
        "w2"
      ],
      "metadata": {
        "id": "9JTvqvGimMN7"
      },
      "execution_count": null,
      "outputs": []
    },
    {
      "cell_type": "code",
      "source": [
        "# make a sentence from numbers and strings\n",
        "g = 4.00\n",
        "text = 'I want to get a GPA'\n",
        "# write code to create a sentence: ‘I want to have GPA 4.00\n",
        "sentence = text + ' ' + str(g)\n",
        "sentence"
      ],
      "metadata": {
        "id": "B45Loaj0mkMf"
      },
      "execution_count": null,
      "outputs": []
    },
    {
      "cell_type": "markdown",
      "source": [
        "Exercise 3\n",
        "1. Given the vairables n1 = 11, n2 = 2, Use the vairabels and arithmatic operation to write code which yield the output belows\n",
        "  *   22\n",
        "  *   22.0\n",
        "  *   1111\n",
        "  *   11112222\n",
        "\n",
        "\n",
        "\n"
      ],
      "metadata": {
        "id": "9-4eaTTLn9m7"
      }
    },
    {
      "cell_type": "code",
      "source": [
        "n1 = 11\n",
        "n2 = 2\n",
        "# 22\n",
        "c1 = n1*n2\n",
        "print('c1', c1, type(c1))\n",
        "# 22.0\n",
        "c2 = float(n1*n2)\n",
        "print('c2', c2, type(c2))\n",
        "# '1111'\n",
        "c3 = str(11) * 2 # or any code that can get this result expet print ('1111')\n",
        "print('c3', c3, type(c3))\n",
        "# '11112222'\n",
        "c4 = (str(n1)*2)+(str(2)*4) # or any code that can get this result expet print ('11112222')\n",
        "print('c4', c4, type(c4))"
      ],
      "metadata": {
        "colab": {
          "base_uri": "https://localhost:8080/"
        },
        "id": "T-ClCuYNpIEo",
        "outputId": "05d3ea3d-82ea-4c7d-a28a-4a0da4dbf4cc"
      },
      "execution_count": 49,
      "outputs": [
        {
          "output_type": "stream",
          "name": "stdout",
          "text": [
            "c1 22 <class 'int'>\n",
            "c2 22.0 <class 'float'>\n",
            "c3 1111 <class 'str'>\n",
            "c4 11112222 <class 'str'>\n"
          ]
        }
      ]
    }
  ]
}