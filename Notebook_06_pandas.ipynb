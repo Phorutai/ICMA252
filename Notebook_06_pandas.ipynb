{
  "nbformat": 4,
  "nbformat_minor": 0,
  "metadata": {
    "colab": {
      "provenance": [],
      "mount_file_id": "1sZyaT7NA_C7LkDTncU_CqFys7h5slf4I",
      "authorship_tag": "ABX9TyN4bBj/QNZvmLebXnBRPUzT",
      "include_colab_link": true
    },
    "kernelspec": {
      "name": "python3",
      "display_name": "Python 3"
    },
    "language_info": {
      "name": "python"
    }
  },
  "cells": [
    {
      "cell_type": "markdown",
      "metadata": {
        "id": "view-in-github",
        "colab_type": "text"
      },
      "source": [
        "<a href=\"https://colab.research.google.com/github/Phorutai/ICMA252/blob/main/Notebook_06_pandas.ipynb\" target=\"_parent\"><img src=\"https://colab.research.google.com/assets/colab-badge.svg\" alt=\"Open In Colab\"/></a>"
      ]
    },
    {
      "cell_type": "markdown",
      "source": [
        "# **What is a DataFrame?**\n",
        "A Pandas DataFrame is a 2 dimensional data structure, like a 2 dimensional array, or a table with rows and columns\n",
        "1. Read csv files\n",
        "2. Getting columns and rows\n",
        "3. Creating Data frame\n",
        "4. Adding rows and comluns\n",
        "5. Removing rows/columns\n",
        "6. Concatenate data frame\n",
        "7. Write out csv files\n",
        "8. Summary statistics from data frame\n"
      ],
      "metadata": {
        "id": "9_qXAZ0b8XUz"
      }
    },
    {
      "cell_type": "code",
      "source": [
        "# You need to import the pandas module and run the code cell before using it.\n",
        "import pandas as pd"
      ],
      "metadata": {
        "id": "5ArId29C_mFc"
      },
      "execution_count": null,
      "outputs": []
    },
    {
      "cell_type": "markdown",
      "source": [
        "# **1. Read csv files**"
      ],
      "metadata": {
        "id": "AIpG2wQn-E2R"
      }
    },
    {
      "cell_type": "code",
      "source": [
        "# Directory path from Uploaded files\n",
        "file = 'exam_scores.csv'\n",
        "# read a csv file and store a dataframe in a variable name 'df'\n",
        "df = pd.read_csv(file)\n",
        "df"
      ],
      "metadata": {
        "id": "fp1cZ-1N-iKn",
        "colab": {
          "base_uri": "https://localhost:8080/",
          "height": 238
        },
        "outputId": "8151e252-dda2-4c5c-b594-6ffbb693f4b9"
      },
      "execution_count": 6,
      "outputs": [
        {
          "output_type": "execute_result",
          "data": {
            "text/plain": [
              "    Name  Midterm  Final\n",
              "0   Alex       35     92\n",
              "1   Andy       75     36\n",
              "2   Anya       77     65\n",
              "3    Ash       54     78\n",
              "4    Dan       86     49\n",
              "5  Gemma       93     81"
            ],
            "text/html": [
              "\n",
              "  <div id=\"df-366449b7-cba2-4cf1-963c-d7b256806aeb\" class=\"colab-df-container\">\n",
              "    <div>\n",
              "<style scoped>\n",
              "    .dataframe tbody tr th:only-of-type {\n",
              "        vertical-align: middle;\n",
              "    }\n",
              "\n",
              "    .dataframe tbody tr th {\n",
              "        vertical-align: top;\n",
              "    }\n",
              "\n",
              "    .dataframe thead th {\n",
              "        text-align: right;\n",
              "    }\n",
              "</style>\n",
              "<table border=\"1\" class=\"dataframe\">\n",
              "  <thead>\n",
              "    <tr style=\"text-align: right;\">\n",
              "      <th></th>\n",
              "      <th>Name</th>\n",
              "      <th>Midterm</th>\n",
              "      <th>Final</th>\n",
              "    </tr>\n",
              "  </thead>\n",
              "  <tbody>\n",
              "    <tr>\n",
              "      <th>0</th>\n",
              "      <td>Alex</td>\n",
              "      <td>35</td>\n",
              "      <td>92</td>\n",
              "    </tr>\n",
              "    <tr>\n",
              "      <th>1</th>\n",
              "      <td>Andy</td>\n",
              "      <td>75</td>\n",
              "      <td>36</td>\n",
              "    </tr>\n",
              "    <tr>\n",
              "      <th>2</th>\n",
              "      <td>Anya</td>\n",
              "      <td>77</td>\n",
              "      <td>65</td>\n",
              "    </tr>\n",
              "    <tr>\n",
              "      <th>3</th>\n",
              "      <td>Ash</td>\n",
              "      <td>54</td>\n",
              "      <td>78</td>\n",
              "    </tr>\n",
              "    <tr>\n",
              "      <th>4</th>\n",
              "      <td>Dan</td>\n",
              "      <td>86</td>\n",
              "      <td>49</td>\n",
              "    </tr>\n",
              "    <tr>\n",
              "      <th>5</th>\n",
              "      <td>Gemma</td>\n",
              "      <td>93</td>\n",
              "      <td>81</td>\n",
              "    </tr>\n",
              "  </tbody>\n",
              "</table>\n",
              "</div>\n",
              "    <div class=\"colab-df-buttons\">\n",
              "\n",
              "  <div class=\"colab-df-container\">\n",
              "    <button class=\"colab-df-convert\" onclick=\"convertToInteractive('df-366449b7-cba2-4cf1-963c-d7b256806aeb')\"\n",
              "            title=\"Convert this dataframe to an interactive table.\"\n",
              "            style=\"display:none;\">\n",
              "\n",
              "  <svg xmlns=\"http://www.w3.org/2000/svg\" height=\"24px\" viewBox=\"0 -960 960 960\">\n",
              "    <path d=\"M120-120v-720h720v720H120Zm60-500h600v-160H180v160Zm220 220h160v-160H400v160Zm0 220h160v-160H400v160ZM180-400h160v-160H180v160Zm440 0h160v-160H620v160ZM180-180h160v-160H180v160Zm440 0h160v-160H620v160Z\"/>\n",
              "  </svg>\n",
              "    </button>\n",
              "\n",
              "  <style>\n",
              "    .colab-df-container {\n",
              "      display:flex;\n",
              "      gap: 12px;\n",
              "    }\n",
              "\n",
              "    .colab-df-convert {\n",
              "      background-color: #E8F0FE;\n",
              "      border: none;\n",
              "      border-radius: 50%;\n",
              "      cursor: pointer;\n",
              "      display: none;\n",
              "      fill: #1967D2;\n",
              "      height: 32px;\n",
              "      padding: 0 0 0 0;\n",
              "      width: 32px;\n",
              "    }\n",
              "\n",
              "    .colab-df-convert:hover {\n",
              "      background-color: #E2EBFA;\n",
              "      box-shadow: 0px 1px 2px rgba(60, 64, 67, 0.3), 0px 1px 3px 1px rgba(60, 64, 67, 0.15);\n",
              "      fill: #174EA6;\n",
              "    }\n",
              "\n",
              "    .colab-df-buttons div {\n",
              "      margin-bottom: 4px;\n",
              "    }\n",
              "\n",
              "    [theme=dark] .colab-df-convert {\n",
              "      background-color: #3B4455;\n",
              "      fill: #D2E3FC;\n",
              "    }\n",
              "\n",
              "    [theme=dark] .colab-df-convert:hover {\n",
              "      background-color: #434B5C;\n",
              "      box-shadow: 0px 1px 3px 1px rgba(0, 0, 0, 0.15);\n",
              "      filter: drop-shadow(0px 1px 2px rgba(0, 0, 0, 0.3));\n",
              "      fill: #FFFFFF;\n",
              "    }\n",
              "  </style>\n",
              "\n",
              "    <script>\n",
              "      const buttonEl =\n",
              "        document.querySelector('#df-366449b7-cba2-4cf1-963c-d7b256806aeb button.colab-df-convert');\n",
              "      buttonEl.style.display =\n",
              "        google.colab.kernel.accessAllowed ? 'block' : 'none';\n",
              "\n",
              "      async function convertToInteractive(key) {\n",
              "        const element = document.querySelector('#df-366449b7-cba2-4cf1-963c-d7b256806aeb');\n",
              "        const dataTable =\n",
              "          await google.colab.kernel.invokeFunction('convertToInteractive',\n",
              "                                                    [key], {});\n",
              "        if (!dataTable) return;\n",
              "\n",
              "        const docLinkHtml = 'Like what you see? Visit the ' +\n",
              "          '<a target=\"_blank\" href=https://colab.research.google.com/notebooks/data_table.ipynb>data table notebook</a>'\n",
              "          + ' to learn more about interactive tables.';\n",
              "        element.innerHTML = '';\n",
              "        dataTable['output_type'] = 'display_data';\n",
              "        await google.colab.output.renderOutput(dataTable, element);\n",
              "        const docLink = document.createElement('div');\n",
              "        docLink.innerHTML = docLinkHtml;\n",
              "        element.appendChild(docLink);\n",
              "      }\n",
              "    </script>\n",
              "  </div>\n",
              "\n",
              "\n",
              "<div id=\"df-cfa1896c-fdf9-410d-b4f7-fe69ec9f13d6\">\n",
              "  <button class=\"colab-df-quickchart\" onclick=\"quickchart('df-cfa1896c-fdf9-410d-b4f7-fe69ec9f13d6')\"\n",
              "            title=\"Suggest charts\"\n",
              "            style=\"display:none;\">\n",
              "\n",
              "<svg xmlns=\"http://www.w3.org/2000/svg\" height=\"24px\"viewBox=\"0 0 24 24\"\n",
              "     width=\"24px\">\n",
              "    <g>\n",
              "        <path d=\"M19 3H5c-1.1 0-2 .9-2 2v14c0 1.1.9 2 2 2h14c1.1 0 2-.9 2-2V5c0-1.1-.9-2-2-2zM9 17H7v-7h2v7zm4 0h-2V7h2v10zm4 0h-2v-4h2v4z\"/>\n",
              "    </g>\n",
              "</svg>\n",
              "  </button>\n",
              "\n",
              "<style>\n",
              "  .colab-df-quickchart {\n",
              "      --bg-color: #E8F0FE;\n",
              "      --fill-color: #1967D2;\n",
              "      --hover-bg-color: #E2EBFA;\n",
              "      --hover-fill-color: #174EA6;\n",
              "      --disabled-fill-color: #AAA;\n",
              "      --disabled-bg-color: #DDD;\n",
              "  }\n",
              "\n",
              "  [theme=dark] .colab-df-quickchart {\n",
              "      --bg-color: #3B4455;\n",
              "      --fill-color: #D2E3FC;\n",
              "      --hover-bg-color: #434B5C;\n",
              "      --hover-fill-color: #FFFFFF;\n",
              "      --disabled-bg-color: #3B4455;\n",
              "      --disabled-fill-color: #666;\n",
              "  }\n",
              "\n",
              "  .colab-df-quickchart {\n",
              "    background-color: var(--bg-color);\n",
              "    border: none;\n",
              "    border-radius: 50%;\n",
              "    cursor: pointer;\n",
              "    display: none;\n",
              "    fill: var(--fill-color);\n",
              "    height: 32px;\n",
              "    padding: 0;\n",
              "    width: 32px;\n",
              "  }\n",
              "\n",
              "  .colab-df-quickchart:hover {\n",
              "    background-color: var(--hover-bg-color);\n",
              "    box-shadow: 0 1px 2px rgba(60, 64, 67, 0.3), 0 1px 3px 1px rgba(60, 64, 67, 0.15);\n",
              "    fill: var(--button-hover-fill-color);\n",
              "  }\n",
              "\n",
              "  .colab-df-quickchart-complete:disabled,\n",
              "  .colab-df-quickchart-complete:disabled:hover {\n",
              "    background-color: var(--disabled-bg-color);\n",
              "    fill: var(--disabled-fill-color);\n",
              "    box-shadow: none;\n",
              "  }\n",
              "\n",
              "  .colab-df-spinner {\n",
              "    border: 2px solid var(--fill-color);\n",
              "    border-color: transparent;\n",
              "    border-bottom-color: var(--fill-color);\n",
              "    animation:\n",
              "      spin 1s steps(1) infinite;\n",
              "  }\n",
              "\n",
              "  @keyframes spin {\n",
              "    0% {\n",
              "      border-color: transparent;\n",
              "      border-bottom-color: var(--fill-color);\n",
              "      border-left-color: var(--fill-color);\n",
              "    }\n",
              "    20% {\n",
              "      border-color: transparent;\n",
              "      border-left-color: var(--fill-color);\n",
              "      border-top-color: var(--fill-color);\n",
              "    }\n",
              "    30% {\n",
              "      border-color: transparent;\n",
              "      border-left-color: var(--fill-color);\n",
              "      border-top-color: var(--fill-color);\n",
              "      border-right-color: var(--fill-color);\n",
              "    }\n",
              "    40% {\n",
              "      border-color: transparent;\n",
              "      border-right-color: var(--fill-color);\n",
              "      border-top-color: var(--fill-color);\n",
              "    }\n",
              "    60% {\n",
              "      border-color: transparent;\n",
              "      border-right-color: var(--fill-color);\n",
              "    }\n",
              "    80% {\n",
              "      border-color: transparent;\n",
              "      border-right-color: var(--fill-color);\n",
              "      border-bottom-color: var(--fill-color);\n",
              "    }\n",
              "    90% {\n",
              "      border-color: transparent;\n",
              "      border-bottom-color: var(--fill-color);\n",
              "    }\n",
              "  }\n",
              "</style>\n",
              "\n",
              "  <script>\n",
              "    async function quickchart(key) {\n",
              "      const quickchartButtonEl =\n",
              "        document.querySelector('#' + key + ' button');\n",
              "      quickchartButtonEl.disabled = true;  // To prevent multiple clicks.\n",
              "      quickchartButtonEl.classList.add('colab-df-spinner');\n",
              "      try {\n",
              "        const charts = await google.colab.kernel.invokeFunction(\n",
              "            'suggestCharts', [key], {});\n",
              "      } catch (error) {\n",
              "        console.error('Error during call to suggestCharts:', error);\n",
              "      }\n",
              "      quickchartButtonEl.classList.remove('colab-df-spinner');\n",
              "      quickchartButtonEl.classList.add('colab-df-quickchart-complete');\n",
              "    }\n",
              "    (() => {\n",
              "      let quickchartButtonEl =\n",
              "        document.querySelector('#df-cfa1896c-fdf9-410d-b4f7-fe69ec9f13d6 button');\n",
              "      quickchartButtonEl.style.display =\n",
              "        google.colab.kernel.accessAllowed ? 'block' : 'none';\n",
              "    })();\n",
              "  </script>\n",
              "</div>\n",
              "\n",
              "  <div id=\"id_ecc091ec-7c4c-42da-b2d0-1a6d612f48aa\">\n",
              "    <style>\n",
              "      .colab-df-generate {\n",
              "        background-color: #E8F0FE;\n",
              "        border: none;\n",
              "        border-radius: 50%;\n",
              "        cursor: pointer;\n",
              "        display: none;\n",
              "        fill: #1967D2;\n",
              "        height: 32px;\n",
              "        padding: 0 0 0 0;\n",
              "        width: 32px;\n",
              "      }\n",
              "\n",
              "      .colab-df-generate:hover {\n",
              "        background-color: #E2EBFA;\n",
              "        box-shadow: 0px 1px 2px rgba(60, 64, 67, 0.3), 0px 1px 3px 1px rgba(60, 64, 67, 0.15);\n",
              "        fill: #174EA6;\n",
              "      }\n",
              "\n",
              "      [theme=dark] .colab-df-generate {\n",
              "        background-color: #3B4455;\n",
              "        fill: #D2E3FC;\n",
              "      }\n",
              "\n",
              "      [theme=dark] .colab-df-generate:hover {\n",
              "        background-color: #434B5C;\n",
              "        box-shadow: 0px 1px 3px 1px rgba(0, 0, 0, 0.15);\n",
              "        filter: drop-shadow(0px 1px 2px rgba(0, 0, 0, 0.3));\n",
              "        fill: #FFFFFF;\n",
              "      }\n",
              "    </style>\n",
              "    <button class=\"colab-df-generate\" onclick=\"generateWithVariable('df')\"\n",
              "            title=\"Generate code using this dataframe.\"\n",
              "            style=\"display:none;\">\n",
              "\n",
              "  <svg xmlns=\"http://www.w3.org/2000/svg\" height=\"24px\"viewBox=\"0 0 24 24\"\n",
              "       width=\"24px\">\n",
              "    <path d=\"M7,19H8.4L18.45,9,17,7.55,7,17.6ZM5,21V16.75L18.45,3.32a2,2,0,0,1,2.83,0l1.4,1.43a1.91,1.91,0,0,1,.58,1.4,1.91,1.91,0,0,1-.58,1.4L9.25,21ZM18.45,9,17,7.55Zm-12,3A5.31,5.31,0,0,0,4.9,8.1,5.31,5.31,0,0,0,1,6.5,5.31,5.31,0,0,0,4.9,4.9,5.31,5.31,0,0,0,6.5,1,5.31,5.31,0,0,0,8.1,4.9,5.31,5.31,0,0,0,12,6.5,5.46,5.46,0,0,0,6.5,12Z\"/>\n",
              "  </svg>\n",
              "    </button>\n",
              "    <script>\n",
              "      (() => {\n",
              "      const buttonEl =\n",
              "        document.querySelector('#id_ecc091ec-7c4c-42da-b2d0-1a6d612f48aa button.colab-df-generate');\n",
              "      buttonEl.style.display =\n",
              "        google.colab.kernel.accessAllowed ? 'block' : 'none';\n",
              "\n",
              "      buttonEl.onclick = () => {\n",
              "        google.colab.notebook.generateWithVariable('df');\n",
              "      }\n",
              "      })();\n",
              "    </script>\n",
              "  </div>\n",
              "\n",
              "    </div>\n",
              "  </div>\n"
            ],
            "application/vnd.google.colaboratory.intrinsic+json": {
              "type": "dataframe",
              "variable_name": "df",
              "summary": "{\n  \"name\": \"df\",\n  \"rows\": 6,\n  \"fields\": [\n    {\n      \"column\": \"Name\",\n      \"properties\": {\n        \"dtype\": \"string\",\n        \"num_unique_values\": 6,\n        \"samples\": [\n          \"Alex\",\n          \"Andy\",\n          \"Gemma\"\n        ],\n        \"semantic_type\": \"\",\n        \"description\": \"\"\n      }\n    },\n    {\n      \"column\": \"Midterm\",\n      \"properties\": {\n        \"dtype\": \"number\",\n        \"std\": 21,\n        \"min\": 35,\n        \"max\": 93,\n        \"num_unique_values\": 6,\n        \"samples\": [\n          35,\n          75,\n          93\n        ],\n        \"semantic_type\": \"\",\n        \"description\": \"\"\n      }\n    },\n    {\n      \"column\": \"Final\",\n      \"properties\": {\n        \"dtype\": \"number\",\n        \"std\": 21,\n        \"min\": 36,\n        \"max\": 92,\n        \"num_unique_values\": 6,\n        \"samples\": [\n          92,\n          36,\n          81\n        ],\n        \"semantic_type\": \"\",\n        \"description\": \"\"\n      }\n    }\n  ]\n}"
            }
          },
          "metadata": {},
          "execution_count": 6
        }
      ]
    },
    {
      "cell_type": "code",
      "execution_count": null,
      "metadata": {
        "id": "ipu_Y3od7nfF"
      },
      "outputs": [],
      "source": [
        "# Directory path from GitHub link\n",
        "file1 ='https://raw.githubusercontent.com/Phorutai/deposited_csv_data/main/exam_scores.csv'\n",
        "df1 = pd.read_csv(file1)\n",
        "df1"
      ]
    },
    {
      "cell_type": "markdown",
      "source": [
        "# **2. Getting columns and rows**\n"
      ],
      "metadata": {
        "id": "jgq1EyKTEO4a"
      }
    },
    {
      "cell_type": "markdown",
      "source": [
        "**Indexing columns and rows in DataFrame using iloc() or loc() functions**\n",
        "\n",
        "- .iloc[ ] index with integer\n",
        "- .loc[ ] index with string of column names or index names"
      ],
      "metadata": {
        "id": "5jp1PfL0kTR1"
      }
    },
    {
      "cell_type": "code",
      "source": [
        "# use .iloc to index with integer of row index or column index\n",
        "midterm_col = df.iloc[:, 1]\n",
        "midterm_col\n",
        "# type(midterm_col)"
      ],
      "metadata": {
        "id": "HOo2wyT1FKx8"
      },
      "execution_count": null,
      "outputs": []
    },
    {
      "cell_type": "code",
      "source": [
        "# write code to get all comlumns in the first rows by using .iloc\n",
        "midtern_row ="
      ],
      "metadata": {
        "id": "Nfjd23l6GzAN"
      },
      "execution_count": null,
      "outputs": []
    },
    {
      "cell_type": "code",
      "source": [
        "# use .loc to index with string of index names or column names\n",
        "midterm_col1 = df.loc[:, 'Midterm']\n",
        "midterm_col1\n",
        "# type(midterm_col1)"
      ],
      "metadata": {
        "id": "dv6GWAlYFiWc"
      },
      "execution_count": null,
      "outputs": []
    },
    {
      "cell_type": "code",
      "source": [
        "# write code to get all comlumns in the first rows by using .loc\n",
        "midtern_row1 ="
      ],
      "metadata": {
        "id": "PrqHaIgDG6g7"
      },
      "execution_count": null,
      "outputs": []
    },
    {
      "cell_type": "markdown",
      "source": [
        "**Create a Subset a data frame: Indexing**"
      ],
      "metadata": {
        "id": "4WPPmFBFmP9k"
      }
    },
    {
      "cell_type": "code",
      "source": [
        "# get the first two rows of the last two columns\n",
        "sub_df1 = df.iloc[0:2,1:]\n",
        "sub_df1"
      ],
      "metadata": {
        "id": "qw3pjezRmDtd"
      },
      "execution_count": null,
      "outputs": []
    },
    {
      "cell_type": "markdown",
      "source": [
        "\n",
        "How would you write the code to get the columns and rows as shown below?\n",
        "\n",
        "![Picture3.png](data:image/png;base64,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)\n"
      ],
      "metadata": {
        "id": "TYs-S6ZGHqmF"
      }
    },
    {
      "cell_type": "code",
      "source": [
        "sub_df = # write code here"
      ],
      "metadata": {
        "id": "HOvhMaaqmIx9"
      },
      "execution_count": null,
      "outputs": []
    },
    {
      "cell_type": "markdown",
      "source": [
        "**Create a Subset a data frame: Column name**\n",
        "- Get the specific column using double [ ] with column names"
      ],
      "metadata": {
        "id": "pj31Bs3hlDmX"
      }
    },
    {
      "cell_type": "code",
      "source": [
        "# use [] with column names\n",
        "df_name = df[['Name']]\n",
        "df_name\n",
        "type(df_name)"
      ],
      "metadata": {
        "id": "AC4kRU4GGJfO"
      },
      "execution_count": null,
      "outputs": []
    },
    {
      "cell_type": "code",
      "source": [
        "# use [] get two columns\n",
        "sub_df2 = df[['Name', 'Midterm']]\n",
        "sub_df2"
      ],
      "metadata": {
        "id": "fn7_1XYll0jt"
      },
      "execution_count": null,
      "outputs": []
    },
    {
      "cell_type": "code",
      "source": [
        "# write code to get columns 'Midterm' and 'Final'\n",
        "# use the original data frame from df\n",
        "mid_final ="
      ],
      "metadata": {
        "id": "vThGOqsYHAI8"
      },
      "execution_count": null,
      "outputs": []
    },
    {
      "cell_type": "markdown",
      "source": [
        "**Create a subset a data frame: a value of the column**"
      ],
      "metadata": {
        "id": "nnJS-vBunfgM"
      }
    },
    {
      "cell_type": "code",
      "source": [
        "df_alex = df[df['Name']=='Alex']\n",
        "# Get any row in the Name column that the value is ‘Alex’\n",
        "df_alex"
      ],
      "metadata": {
        "id": "RTxHEQfwHbuU"
      },
      "execution_count": null,
      "outputs": []
    },
    {
      "cell_type": "code",
      "source": [
        "sub_df3 = df[df['Midterm']>= 50]\n",
        "# Get any row in the Midterm column with a value greater than or equal to 50\n",
        "sub_df3"
      ],
      "metadata": {
        "id": "L7GgtZ-Gn8W4"
      },
      "execution_count": null,
      "outputs": []
    },
    {
      "cell_type": "markdown",
      "source": [
        "# **3. Creating Data frame**\n",
        "\n",
        "- DataFrame() function is used to create a DataFrame\n",
        "\n",
        "\n",
        "```\n",
        "import pandas as pd\n",
        "nex_df = pd.DataFrame()\n",
        "```\n",
        "\n",
        "\n",
        "- Methods to create a DataFrame in Pandas\n",
        "  1. Creating an Empty DataFrame\n",
        "  2. Creating Pandas DataFrame from lists of lists\n",
        "  3. Creating DataFrame from dictionary of array/lists"
      ],
      "metadata": {
        "id": "d44yoAuEI4Sd"
      }
    },
    {
      "cell_type": "code",
      "source": [
        "\"\"\"1. Creat an empty data frame and adding data\"\"\"\n",
        "new_df1 = pd.DataFrame() # create an empty data frame\n",
        "# you have two lists of names and midterm\n",
        "names = ['Alex', 'Andy', 'Anya', 'Ash', 'Dan', 'Gemma']\n",
        "midterm = [35, 75, 77, 54, 86, 93]\n",
        "new_df1['Name'] = names\n",
        "new_df1['Midterm'] = midterm\n",
        "new_df1"
      ],
      "metadata": {
        "id": "bDgyNNuYJnt7"
      },
      "execution_count": null,
      "outputs": []
    },
    {
      "cell_type": "code",
      "source": [
        "\"\"\"2. Creating Pandas DataFrame from lists of lists\"\"\"\n",
        "# create data in a format of lists containing name and score in a big list\n",
        "names_mid = [['Alex', 35], ['Andy', 75], ['Anya', 77],['Ash', 54], ['Dan', 86], ['Gemma', 93]]\n",
        "new_df2 = pd.DataFrame(names_mid, columns=['Name', 'Midterm'])\n",
        "new_df2"
      ],
      "metadata": {
        "id": "r3TNTlAMNyQI"
      },
      "execution_count": null,
      "outputs": []
    },
    {
      "cell_type": "code",
      "source": [
        "\"\"\"3. Creating DataFrame from dictionary of array/lists\"\"\"\n",
        "# create a data in a dictionary, key is column, values are rows in a column\n",
        "name_mid_dict = {'Name':['Alex', 'Andy', 'Anya', 'Ash', 'Dan', 'Gemma'],'Midterm':[35, 75, 77, 54, 86, 93]}\n",
        "new_df3 = pd.DataFrame(name_mid_dict)\n",
        "new_df3"
      ],
      "metadata": {
        "id": "UtbofMrVOMSo"
      },
      "execution_count": null,
      "outputs": []
    },
    {
      "cell_type": "code",
      "source": [
        "\"\"\"4. Creating DataFrame from list of dictionaries\"\"\"\n",
        "# Create dictionaries in a big list. In each dictionary, keys are column names,\n",
        "# values are in rows of each key\n",
        "name_mid_final = [{'Name': 'Alex', 'Midterm':35, 'Final':92},\n",
        "                  {'Name': 'Andy', 'Midterm':75, 'Final':36},\n",
        "                  {'Name': 'Anya', 'Midterm':77, 'Final':65},\n",
        "                  {'Name': 'Ash', 'Midterm':54, 'Final':78},\n",
        "                  {'Name': 'Dan', 'Midterm':86, 'Final':49},\n",
        "                  {'Name': 'Gemma', 'Midterm':93, 'Final':81}]\n",
        "new_df4 = pd.DataFrame(name_mid_final)\n",
        "new_df4"
      ],
      "metadata": {
        "id": "CrcvXP9sPOGD"
      },
      "execution_count": null,
      "outputs": []
    },
    {
      "cell_type": "markdown",
      "source": [
        "# **4. Adding rows and comluns**\n"
      ],
      "metadata": {
        "id": "u4FuvprKRxFi"
      }
    },
    {
      "cell_type": "markdown",
      "source": [
        "To append or add a row to DataFrame, create the new row as Series and use\n",
        "```\n",
        "# df is a variable name that store a data frame\n",
        "df._appened(new_df)\n",
        "```\n"
      ],
      "metadata": {
        "id": "Xywq76A1T_Db"
      }
    },
    {
      "cell_type": "code",
      "source": [
        "\"\"\"adding rows\"\"\"\n",
        "# use the original from df\n",
        "# you have a new data store in a dictionary. you want to add the new row to exam_score.csv\n",
        "new_row = {'Name':'Pear', 'Midterm':100, 'Final':100}\n",
        "df = df._append(new_row, ignore_index=True)\n",
        "df"
      ],
      "metadata": {
        "id": "4V5vywjzRyoP"
      },
      "execution_count": null,
      "outputs": []
    },
    {
      "cell_type": "markdown",
      "source": [
        "You can simply add a new column by declaring a new columns name and a new list as a column. A new column will be the last column in a data frame."
      ],
      "metadata": {
        "id": "uyzEh5t8UEhB"
      }
    },
    {
      "cell_type": "code",
      "source": [
        "\"\"\"adding columns\"\"\"\n",
        "# use the original from df\n",
        "# you have a new data store in a list. you want to add the new column to exam_score.csv\n",
        "quiz1 = [7, 10, 8, 5, 3, 9, 10]\n",
        "df['Quiz 1'] = quiz1  # the new column name is 'Quiz 1'\n",
        "df"
      ],
      "metadata": {
        "id": "rmWwnlhrTn0Y"
      },
      "execution_count": null,
      "outputs": []
    },
    {
      "cell_type": "markdown",
      "source": [
        "To add a new column to a specified location not just at the end, you can use\n",
        "\n",
        "\n",
        "```\n",
        "# df is a variable name that store a data frame\n",
        "df.insert(loc,column,value)\n",
        "```\n",
        "\n"
      ],
      "metadata": {
        "id": "lC-3yGXmUqHG"
      }
    },
    {
      "cell_type": "code",
      "source": [
        "\"\"\"insert a new column to a specific location\"\"\"\n",
        "# use the original from df\n",
        "# you have a new data store in a list. you want to add the new column next to the first column\n",
        "pre_test = [2, 5, 3, 1, 4, 3, 7]\n",
        "df.insert(1, 'Pre-test', pre_test)\n",
        "df"
      ],
      "metadata": {
        "id": "LFvTEExNVNP4"
      },
      "execution_count": null,
      "outputs": []
    },
    {
      "cell_type": "markdown",
      "source": [
        "# **5. Removing rows/columns**\n",
        "To remove an existing row or column in a DataFrame, you can use drop() function by specifying the column name or the row index\n",
        "\n",
        "```\n",
        "# df is a variable name that store a data frame\n",
        "df.drop()\n",
        "```\n"
      ],
      "metadata": {
        "id": "wZrnXINhWgis"
      }
    },
    {
      "cell_type": "code",
      "source": [
        "\"\"\"remove columns by comlum names\"\"\"\n",
        "# use the original from df\n",
        "# remove one column\n",
        "df_remove1 = df.drop(columns='Pre-test')\n",
        "df_remove1"
      ],
      "metadata": {
        "id": "BDKMDflGXeSY"
      },
      "execution_count": null,
      "outputs": []
    },
    {
      "cell_type": "code",
      "source": [
        "\"\"\"remove columns by comlum names\"\"\"\n",
        "# use the original from df\n",
        "# remove two columns\n",
        "df_remove2 = df.drop(columns=['Pre-test', 'Quiz 1'])\n",
        "df_remove2"
      ],
      "metadata": {
        "id": "8kKBu_LrYLPt"
      },
      "execution_count": null,
      "outputs": []
    },
    {
      "cell_type": "code",
      "source": [
        "\"\"\"remove rows by indicating row index\"\"\"\n",
        "# use the original from df\n",
        "df_remove3 = df.drop(index=[5])\n",
        "df_remove3"
      ],
      "metadata": {
        "id": "kUY2OXJcaCx8"
      },
      "execution_count": null,
      "outputs": []
    },
    {
      "cell_type": "markdown",
      "source": [
        "The reset_index() function can be used to reorder the index row number.\n",
        "\n",
        "```\n",
        "# df is a variable name that store a data frame\n",
        "df.reset_index()\n",
        "```\n"
      ],
      "metadata": {
        "id": "R2pbyo28bEa6"
      }
    },
    {
      "cell_type": "code",
      "source": [
        "df_remove3.reset_index(drop=True)  # by default drop=False, set it is true will not the old index to a removed data frame"
      ],
      "metadata": {
        "id": "Z1nXHF3RbboT"
      },
      "execution_count": null,
      "outputs": []
    },
    {
      "cell_type": "code",
      "source": [
        "# use the original from df\n",
        "# write code to remove rows of Andy and Dan"
      ],
      "metadata": {
        "id": "Hkd4adC7avno"
      },
      "execution_count": null,
      "outputs": []
    },
    {
      "cell_type": "markdown",
      "source": [
        "# **6. Concatenating data frame**\n",
        "\n",
        "*  combine two data frames\n",
        "*   pd.concat() where pd refers to pandas (import pandas as pd)\n",
        "*  Stacking rows, axis = 0\n",
        "*  Extending columns, axis = 1\n",
        "\n",
        "\n",
        "\n"
      ],
      "metadata": {
        "id": "adlXfysX-5QZ"
      }
    },
    {
      "cell_type": "markdown",
      "source": [
        "**Stacking rows**\n",
        "- Define axis = 0\n",
        "- To reorder the row index number, define ignore_index = True"
      ],
      "metadata": {
        "id": "F1NRBOdTLV6s"
      }
    },
    {
      "cell_type": "code",
      "source": [
        "# concatenating by rows\n",
        "# use the origianal dataframe from exam_scores.csv\n",
        "import pandas as pd\n",
        "df = pd.read_csv('exam_scores.csv')\n",
        "df_new_row =  pd.DataFrame({'Name':['Harry', 'Kelly', 'Lee'],'Midterm':[67, 58, 54],'Final':[98, 63, 78]})\n",
        "df_joined_row =  pd.concat([df, df_new_row], axis=0, ignore_index=True)\n",
        "df_joined_row"
      ],
      "metadata": {
        "id": "mfJrM5T9_42f"
      },
      "execution_count": null,
      "outputs": []
    },
    {
      "cell_type": "markdown",
      "source": [
        "**Extending columns**\n",
        "- Define axis = 1\n",
        "- The number of rows between two data frames must be identical"
      ],
      "metadata": {
        "id": "6y4TJeWDPOHs"
      }
    },
    {
      "cell_type": "code",
      "source": [
        "# concatenating by columns\n",
        "# use the origianal dataframe from exam_scores.csv\n",
        "import pandas as pd\n",
        "df = pd.read_csv('exam_scores.csv')\n",
        "df_new_col =  pd.DataFrame({'Quiz 1':[7, 10, 8, 5, 3, 9],'Quiz 2':[9, 6, 8, 5, 7, 10]})\n",
        "df_joined_col =  pd.concat([df, df_new_col], axis=1)\n",
        "df_joined_col"
      ],
      "metadata": {
        "id": "oBQJFf6bP-A-"
      },
      "execution_count": null,
      "outputs": []
    },
    {
      "cell_type": "markdown",
      "source": [
        "# **7. Write out csv files**"
      ],
      "metadata": {
        "id": "PRHRMNuzcb6e"
      }
    },
    {
      "cell_type": "code",
      "source": [
        "# use the original from df\n",
        "# you want to export the modified data frame to a csv file\n",
        "df.to_csv('output_file.csv', index=False)"
      ],
      "metadata": {
        "id": "9Pb6jyBHckAd"
      },
      "execution_count": null,
      "outputs": []
    },
    {
      "cell_type": "markdown",
      "source": [
        "**Exercise 1:** Working with a Pandas DataFrame\n",
        "\n",
        "1. Write a Pandas program to create and display a DataFrame from a specified dictionary data.\n",
        "\n",
        "\n",
        "\n",
        "```\n",
        "exam_data = {'name': ['Anastasia', 'Dima', 'Katherine', 'James', 'Emily', 'Michael', 'Matthew', 'Laura', 'Kevin', 'Jonas'],\n",
        "            'score': [12.5, 9, 16.5, 15.5, 9, 20, 14.5, 14, 8, 19],\n",
        "            'attempts': [1, 3, 2, 3, 2, 3, 1, 1, 2, 1],\n",
        "            'qualify': ['yes', 'no', 'yes', 'no', 'no', 'yes', 'yes', 'no', 'no', 'yes']}\n",
        "```\n",
        "\n",
        "2. Once you have created a dataframe from the exam_data dictionary, insert a column of 'pre-test' in front of the column 'score'\n",
        "\n",
        "```\n",
        "pre_test = [[7, 4, 10.5, 7.5, 2, 15, 7.5, 8, 7, 12]\n",
        "```\n",
        "\n",
        "\n",
        "3. You have the another data frame sotred the final scores of those students. They are in a dictionary below. You want add more two columns of 'final_score' and 'final qualify' to the exam_data dataframe.\n",
        "\n",
        "  3.1 Create a new dataframe from the 'final_exam_data' dictionary\n",
        "\n",
        "  3.2 Create a subset data from a dataframe you created in 3.1\n",
        "\n",
        "  3.3 use concat() function to join two data frames\n",
        "\n",
        "```\n",
        "final_exam_data = {'name': ['Anastasia', 'Dima', 'Katherine', 'James', 'Emily', 'Michael', 'Matthew', 'Laura', 'Kevin', 'Jonas'],\n",
        "            'final score': [79, 49, 92, 85, 51, 97, 89, 84, 42, 89],\n",
        "            'final qualify': ['yes', 'no', 'yes', 'yes', 'yes', 'yes', 'yes', 'yes', 'no', 'yes']}\n",
        "```\n",
        "\n",
        "4. Create a subset data frame to get only students who are quilified; final qulify is yes."
      ],
      "metadata": {
        "id": "U_bCda5Be_F7"
      }
    },
    {
      "cell_type": "code",
      "source": [
        "# wirte code here. Feel free to add more code cell"
      ],
      "metadata": {
        "id": "8OI_hQjze_jF"
      },
      "execution_count": null,
      "outputs": []
    },
    {
      "cell_type": "markdown",
      "source": [
        "# **8. Summary statistics of a Pandas DataFrame**\n",
        "\n",
        "DataFrame.describe() – generate descriptive statistics of columns in a data frame"
      ],
      "metadata": {
        "id": "p1lnsaAje4Xo"
      }
    },
    {
      "cell_type": "code",
      "source": [
        "# read the exam_scores.csv\n",
        "df ="
      ],
      "metadata": {
        "id": "eNmnXDFM3Rsd"
      },
      "execution_count": null,
      "outputs": []
    },
    {
      "cell_type": "code",
      "source": [
        "final_stat = df['Final'].describe()\n",
        "final_stat  # what is an object type?"
      ],
      "metadata": {
        "id": "kvXXfuxU3pFV"
      },
      "execution_count": null,
      "outputs": []
    },
    {
      "cell_type": "code",
      "source": [
        "# The final_stat can be operated like an numpy array\n",
        "# Statistic words are row index to describe values\n",
        "final_mean = final_stat['mean']\n",
        "final_mean"
      ],
      "metadata": {
        "id": "HdMyLyzkLRXw"
      },
      "execution_count": null,
      "outputs": []
    },
    {
      "cell_type": "markdown",
      "source": [
        "If more than one columns are passed through describe() method, the result will be DataFrame object"
      ],
      "metadata": {
        "id": "kTMLLal5MWIb"
      }
    },
    {
      "cell_type": "code",
      "source": [
        "# use the data stored in df\n",
        "exam_stat = df[['Midterm', 'Final']].describe()\n",
        "exam_stat  # what is an object type?"
      ],
      "metadata": {
        "collapsed": true,
        "id": "bqj0at13MTJJ"
      },
      "execution_count": null,
      "outputs": []
    },
    {
      "cell_type": "code",
      "source": [
        "# The exam_stat can be operated like a Pandas DataFrame\n",
        "# Row index are not number as usaual, but they are statisitc words\n",
        "mean_midterm = exam_stat.loc['mean', 'Midterm']\n",
        "mean_midterm"
      ],
      "metadata": {
        "id": "Wx8InAZzOMNU"
      },
      "execution_count": null,
      "outputs": []
    },
    {
      "cell_type": "markdown",
      "source": [
        "Summary statisitc calculation from rows and columns of a data frame\n",
        "- Calculation of column mean (from all rows in a column) --> axis = 0\n",
        "- Calculation of row mean (from all columns in a row) --> axis = 1"
      ],
      "metadata": {
        "id": "dq7UNe3uQKma"
      }
    },
    {
      "cell_type": "code",
      "source": [
        "\"\"\"Column mean\"\"\"\n",
        "# use the data stored in df\n",
        "# calculate from an entier column\n",
        "mean_midterm = df.loc[:, 'Midterm'].mean()\n",
        "mean_midterm"
      ],
      "metadata": {
        "id": "6geeGsQuTp7A"
      },
      "execution_count": null,
      "outputs": []
    },
    {
      "cell_type": "code",
      "source": [
        "\"\"\"Row mean\"\"\"\n",
        "# use the data stored in df\n",
        "# calculate for an entier rows\n",
        "average_midterm_final = df.loc[:,'Midterm':'Final'].mean(axis=1)\n",
        "average_midterm_final"
      ],
      "metadata": {
        "id": "q3tVgTHTUszT"
      },
      "execution_count": null,
      "outputs": []
    },
    {
      "cell_type": "markdown",
      "source": [
        "**Exercise 2:**  Summary statistics in a DataFrame\n",
        "- Use the exam_scores.csv as a data frame you will working with\n",
        "- Calculate **mean** for midterm and final columns\n",
        "- Calculate **standard deviation** for midterm and final columns\n",
        "- Add two new rows of mean and std to the original DataFrame\n",
        "- Save a new data frame with mean and statistic values to a CSV file"
      ],
      "metadata": {
        "id": "jDqkMjMCUqAW"
      }
    },
    {
      "cell_type": "code",
      "source": [
        "# wirte code here. Feel free to add more code cell"
      ],
      "metadata": {
        "id": "iAAd7hxYYPYr"
      },
      "execution_count": null,
      "outputs": []
    }
  ]
}