{
  "nbformat": 4,
  "nbformat_minor": 0,
  "metadata": {
    "colab": {
      "provenance": [],
      "authorship_tag": "ABX9TyPxpPzlAzaPwKObL1zD14Kd",
      "include_colab_link": true
    },
    "kernelspec": {
      "name": "python3",
      "display_name": "Python 3"
    },
    "language_info": {
      "name": "python"
    }
  },
  "cells": [
    {
      "cell_type": "markdown",
      "metadata": {
        "id": "view-in-github",
        "colab_type": "text"
      },
      "source": [
        "<a href=\"https://colab.research.google.com/github/Phorutai/ICMA252/blob/main/Notebook_04_condition_loop_function.ipynb\" target=\"_parent\"><img src=\"https://colab.research.google.com/assets/colab-badge.svg\" alt=\"Open In Colab\"/></a>"
      ]
    },
    {
      "cell_type": "markdown",
      "source": [
        "# **Conditionals**\n",
        "- This is done with simple statements (in nearly all languages):\n",
        "    - if\n",
        "    - else : The else keyword catches anything which isn't caught by the preceding conditions.\n",
        "    - elif (aka else if) : \"if the previous conditions were not true, then try this condition\"\n",
        "- In Python, code within a conditional or a loop is denoted by a ‘ : ’ followed by indentation\n"
      ],
      "metadata": {
        "id": "tQtXZH6fya86"
      }
    },
    {
      "cell_type": "code",
      "execution_count": null,
      "metadata": {
        "id": "Dx_FmMpR0-E2"
      },
      "outputs": [],
      "source": [
        "# a simple if condition\n",
        "x = 5\n",
        "y = 5\n",
        "if x == y:\n",
        "  print('x and y are the same')\n",
        "else:\n",
        "  print('x and y are not the same')"
      ]
    },
    {
      "cell_type": "code",
      "source": [
        "# use elif in conditonal statments\n",
        "a = 5\n",
        "b = 4\n",
        "if a < b:\n",
        "  print('a is less than b')\n",
        "elif a == b:\n",
        "  print('a is equal to b')\n",
        "else:\n",
        "  print('a is greater than b')"
      ],
      "metadata": {
        "id": "5a6Uyskcy7Iq"
      },
      "execution_count": null,
      "outputs": []
    },
    {
      "cell_type": "markdown",
      "source": [
        "**Logical operators**\n",
        "- A logical operator is a symbol or word used to connect two or more expressions\n",
        "- The value of the compound expression produced depends only on that of the original expressions and on the meaning of the operator.\n",
        "- There are three common 3 logical operators: AND, OR, NOT"
      ],
      "metadata": {
        "id": "sstxtIDh4S5M"
      }
    },
    {
      "cell_type": "code",
      "source": [
        "# using AND\n",
        "# Code to test of both marks are grater than or equal to 70\n",
        "biol733_mark = 75\n",
        "biol734_mark = 72\n",
        "if biol733_mark >= 70 and biol734_mark >= 70:\n",
        "\tprint(\"You're getting a distinction :-)\")\n",
        "\n",
        "else:\n",
        "\tprint(\"You're not getting a distinction :-(\")"
      ],
      "metadata": {
        "id": "16bg_PQf6iBO"
      },
      "execution_count": null,
      "outputs": []
    },
    {
      "cell_type": "code",
      "source": [
        "# using OR\n",
        "# Code to test of at least one mark is grater than or equal to 70\n",
        "biol733_mark = 75\n",
        "biol734_mark = 65\n",
        "if biol733_mark >= 70 or biol734_mark >= 70:\n",
        "\tprint(\"You're getting a distinction :-)\")\n",
        "\n",
        "else:\n",
        "\tprint(\"You're not getting a distinction :-(\")"
      ],
      "metadata": {
        "id": "2mm4o8QU2UKK"
      },
      "execution_count": null,
      "outputs": []
    },
    {
      "cell_type": "code",
      "source": [
        "# using NOT\n",
        "# Code to check if a course is a required course\n",
        "required_course = ['ICBI121', 'ICMA151', 'ICCH101', 'ICCH102', 'ICCH103', 'ICPY101', 'ICPY105']\n",
        "course = 'ICGN105'\n",
        "if course not in required_course:\n",
        "  print(course+' is a required course')\n",
        "else:\n",
        "  print(course+' is an elective course')"
      ],
      "metadata": {
        "id": "BUZW4q5H7sZ7"
      },
      "execution_count": null,
      "outputs": []
    },
    {
      "cell_type": "markdown",
      "source": [
        "**Exercise 7 If Condition**\n",
        "\n",
        "Write python script to indicate a letter of grade A, B, C, D, or F from the score ranges\n",
        "\n",
        "- 80-100 = A\n",
        "- 70-79 = B\n",
        "- 60-69 = C\n",
        "- 50-59 = D\n",
        "- 0-49 = F"
      ],
      "metadata": {
        "id": "iyoe1Tad-ALu"
      }
    },
    {
      "cell_type": "code",
      "source": [
        "# write code here. Feel free to add more cell code."
      ],
      "metadata": {
        "id": "MrXr2IlC-86I"
      },
      "execution_count": null,
      "outputs": []
    },
    {
      "cell_type": "markdown",
      "source": [
        "# **Loops in Python**\n",
        "- Two main loop structures: for and while loops\n",
        "- for looop - Used for repeating code a number of times or iterating over items in an object such as a list\n",
        "- while loop - Used for looping in a conditional manner\n",
        "- An indentation is crucial to denote the code that you want to run within the loop"
      ],
      "metadata": {
        "id": "tlQHw5HC_FGh"
      }
    },
    {
      "cell_type": "code",
      "source": [
        "# For loop structure\n",
        "for x in range (1,6):\n",
        "  print(x)"
      ],
      "metadata": {
        "id": "pT1o6C81ASi5"
      },
      "execution_count": null,
      "outputs": []
    },
    {
      "cell_type": "code",
      "source": [
        "# Loop through a list\n",
        "exam_scores = [67, 78, 94, 45, 55]\n",
        "for s in exam scores:\n",
        "  print(s)"
      ],
      "metadata": {
        "id": "zkG0PySDB96f"
      },
      "execution_count": null,
      "outputs": []
    },
    {
      "cell_type": "code",
      "source": [
        "# write a loop strcuture to loop through the index and print scores in the exam_scores list\n",
        "exam_scores = [67, 78, 94, 45, 55]"
      ],
      "metadata": {
        "id": "X1IwDyqDCn0t"
      },
      "execution_count": null,
      "outputs": []
    },
    {
      "cell_type": "code",
      "source": [
        "# While loop stucture\n",
        "a = 1\n",
        "while a < 5:  # the meaning of this statement is while a < 5 is true, do something\n",
        "  print('The value od a is', a)"
      ],
      "metadata": {
        "id": "AdDOP0eCC-El"
      },
      "execution_count": null,
      "outputs": []
    },
    {
      "cell_type": "markdown",
      "source": [
        "# **Function in Python**\n",
        "- A function is a block of code which only runs when it is called.\n",
        "- You can pass data, known as parameters, into a function.\n",
        "- A function can return data as a result."
      ],
      "metadata": {
        "id": "lHD3w7oRELIO"
      }
    },
    {
      "cell_type": "code",
      "source": [
        "# Passing parameters to a a function\n",
        "def add(num1, num2):\n",
        "  result = num1+num2\n",
        "  print(num1, num2, result)\n",
        "\n",
        "x = 1\n",
        "y = 4\n",
        "add(x,y)"
      ],
      "metadata": {
        "id": "KG4qcvYtOIri"
      },
      "execution_count": null,
      "outputs": []
    },
    {
      "cell_type": "code",
      "source": [
        "# a simple function for creating a file name\n",
        "def filename(name, filetype):\n",
        "  f = name + '.' + filetype\n",
        "  return (f)   # the funtion return a file name as a result\n",
        "\n",
        "# call the function and pass the parameters\n",
        "x = 'data'\n",
        "y = 'csv'\n",
        "file = filename(x, y)  # define a variable namely 'file' to store the result from the filename() function\n",
        "print(file)\n"
      ],
      "metadata": {
        "id": "FH2gPP0HP_1V"
      },
      "execution_count": null,
      "outputs": []
    },
    {
      "cell_type": "markdown",
      "source": [
        "**Exercises 8** Loop and Function\n",
        "1. Use for loop to find the summation of the values from list x\n",
        "\n",
        "    x = [21, 23.5, 35.3, 68, 54.9, 85.2, 61, 17, 57.4, 56]\n",
        "2. Build a function to calculate mean from the values from list                   \n",
        "```\n",
        "def calculate_mean(listx):\n",
        "  do things....\n",
        "```\n",
        "3. Build another function to calculate standard deviation from the values from list x\n",
        "\n",
        "Hint:\n",
        "\n",
        "```\n",
        "import math\n",
        "x = math.sqrt(x**2)\n",
        "```\n",
        "\n",
        "\n",
        "\n",
        "![image.png](data:image/png;base64,iVBORw0KGgoAAAANSUhEUgAAAToAAABwCAMAAAC5KEzQAAAAAXNSR0IArs4c6QAAAARnQU1BAACxjwv8YQUAAAC6UExURQAAAAAAAAAAAAAAAAAAAAAAAAAAAAAAAAAAAAAAAAAAAAAAAAAAAAAAAAAAAAAAAAAAAAAAAAAAAAAAAAAAAAAAAAAAAAAAAAAAAAAAAAAAAAAAAAAAAAAAAAAAAAAAAAAAAAAAAAAAAAAAAAAAAAAAAAAAAAAAAAAAAAAAAAAAAAAAAAAAAAAAAAAAAAAAAAAAAAAAAAAAAAAAAAAAAAAAAAAAAAAAAAAAAAAAAAAAAAAAAAAAAAAAAKskavMAAAA9dFJOUwABCAkQERgZICEoKTAxODlAQUhJUFFYWWBhaGlweHmAgYePlpeen6anrq+2t76/x87P1tfe3+bn7u/29/5DbGw0AAAACXBIWXMAABcRAAAXEQHKJvM/AAAK3ElEQVR4Xu1cf2OqyBV1qaXWWktdN7XWlI3Ns9k0z9RNfTxC5vt/rZ575wIzoAYU7EA9/+wImycc7q9z5+LASYxChnIacq2OYSZX5zTkWh3DQq7Oaci1Oga46n4LzOTzDZXxqFQoyxvq4UmphSxvqIetUjdfPQ97pSayvKEeEqV8Wd5QC0NnU7/zGKM2keUN9RAo9SrLG+oBYuJZljfUw71Sj7K8oR7WNzFxLm5i4mzcxMTZcFRMjJYvW5VsnwP57CKcFBPTX1Gov63hEerpBznmHGqICe/uqa2o+DUcy0pj8aGi3+O/wYdSf9GH3EN1MTGDa69k3TB8GNnjUD4QQN2fefFFqY2rZpeLCdneMaFPMLxHlM62aTSJZaTiH2UN+MFUL0J8q6vU5WJiCtctQJ8geC8qbjVi49EkB1wTVvezq9QZYgIVnkrE3tY7m7pnpeaybAtflTipAe+bSv4oa+fwkIuJIYJZrixwIqcOtrmWZWvwv6n9b2Wd4h9K/d3ZDLsxxATinlKpW3pRTp2XqFdP1u0B6bTwfGYf6sVZ5mwxQSMAUVrl4YOsBqvrKI6vKv6NLBmzd/ViHXALb6aY8F7B3VY+oGyR1WCnYtvo0gQIjIORrC7G8kP9VZYEMLdxmLlBbImJEbRFFu6C1HeRezeyZKzwR7EmzKeCv17qHaLMlfpwiT+mylfgf6hd7p/w1rW73go7w8XLksFTFEUqkHpNf9WTPVwNjiizJPXCICkESaWoFWOTHSTZLJ8G7yp0mbnBqCgmqELJwp0ApmiwM1OvM0q/qI/JwfeZh1cEmE/ED/9dKHgRUx/k8+S748yVdya4QrHJ8EGmLAHvLYJkQtkHv96o/WQU1swgMK1XTYr3XpB2dx+p2h9+SwXYL8pRBu9KOxNcodzJBwZC3U6WBJ/8mQQSvHtvpgg/CKq0r75nNSK57p/0UgMHtpqoLyr6MSCEH4mj1MFFijsTFMos6uZFMwRAcDROYkvUwoufZHkCE/D1k17iy1PX1Rh/qD0TRaSm0EfcgyEmUiBTvMhSA3doJVgCimQVJXY+QbLV7vdEM2cFZKTiX1MiGn7BM7F4oeTLBxAEM4h3OwdTTGhME/Vm9n+Y3gdZ5iCNu5S1BrGpHfY/+p4tZLaDPCRrD65beG6gzihW3EZpZ8LfK9sNuYQoU7cu2qaBk9ThpNgwCrfUdVN0iTpLTABUbhRbJPcHHJZM8ax5ixHYETuHxaeuKyCHdVk/WLDFBFvYvSwzlIIfwLPbtl8jA1TY5EBKl7KX/NUQDwTwapXILqMoJqCM8lrlTcyjVPuBpDhB/WeaJym4Ki09OLpUG5QvCp0SJNYCmfUxCh84L+Uqux0UxESAFJHpBpzTNUpJcVBAXNgjyF5AYrZohgeA3KnZ8WF0hURDJfHF7fQ5tTCACh5wEWyDGkWpqifAPnTxUTTNwXCH4Aej4UI5vUT8UxWCH0Uzzc6/EhhqoQO8/FCPl1KH6hBR6LxAXAeWmPBIXXEJT6AgLhkExzPzD0IPzME2JzgPnpex/E+Hqr8ySKtQLec9qTtQh3Rqbh79U6m/yfISkANUuJbLgNiWiwlS/jbEBMFKVp08q2eUL3QiAu3ePEnbx6C6wlYjd10W4+VOrUnB/uSvja46jti9zjNB1LW07ZkDd5IlVArbBQh1KHYz+ydnSLgUhEMDWRFYLHMOg+6KAav4you3vJCblzrs5wGXUuVaLoMpJqhlUoCcIZbEY8lNIx0CfZiditJLHFbr231XETWsIjIK7g0+Gn/0Rak/yPISUGxOZN0eXqq1eMeZX/vzcJHe7HAZzrMbP9QjKAPaf/tDtj89DRdmHkTObWS7mh5vzR7iGUACqLSjjzD4Sc0G16/gbCdzyaGN2HNAkaesHJsGfK5CLQYDk9RwHLDfCgUxHsFRgkF+sYlzHp5BXYVruRCVg8IkLikKG3gIp7llQPsfowdKoqE9V8pklQziEpR1wlFM9mp/4lEiNFMT/pOHTdr/MHVDZKKKI03TuzAM74NSoJnMcXwxoptSb3KsPUxrxFMffrA9mvJ9lCmetyk2/wog7X+IOm8Vq+j0nwqWVHhoRE9mhpunJ56oaGq9IKa0WKElnmL2fCIYQTnuos9eI4BGLjdmAO99/1DFxYakT5/DWUhSx2zSjqle3K3v7inOAQVt3AIgJmrVoMPj90cG9bnhjIPgoCyvECYJYE6a+iOr7KXt4ETrh3um7ph3TLipcgx1uDDFxKUYr2YVSuKLQBOA6fVinWU4Zk7Yoja/ivW6DJLQx1GnGDTFRAdAUSzrQ+yyO6W2hS2Kjrb+m6OuophwBbjcnLrVNlX4VALneYGoOxqSDwz9GqhjRlXFhCOg5FBmZUhaOr8NfLjGRFtVMeEIuLdTooXcOG86okq6yk2ZYoK+0l3wJY6442VNJgBkdJkbcyoxxzxagiUm6ALdhb5G/RtKL1Z9Q5HfyKh24GsNEzOp8FU5C7nIBW+8xWY8t/2VU8kVqgY8xBpiwglMtd56yaOZnVG5rLtC6rvGSH/T8KjJjHCWckctYSN1kEsfLYgbVBNNionrQRteepvUJzF0F2nYwsCgicZK4sduiYkUQ+IukVzBZGQSmHrrJ3oUzVGHR9QlMZGB5+ylRqG2Q77Bzjv/J+6pMTWBL+qOmBgZPRdKoxJquF5JzyACAdeo8pGcuiMmNkZcplQhLTl2UTGAmdoiBrU+MkEwxYTz2Bvhn+YUREDQW+RC4yTeD6HKOWJt2i2LIfeu8oQaAW2Rp9mABH8mtqjjxMMbsziZUlmHe/I2n23gXQhLTLiOOTGk6fAR6vIJcDqhdmH4wvMclEDC5ZtKh4haQqfEBFfCyTPy4CPo0VMvGukYCx+jBALsWk5/nRITkzCb9FHxxvRGT09obTjNTri58tB2q79zYmIarMJwFZSqgtE8zN4s9Vf2IEs7aFxMBLqyzK6c9pSB9ocYro7GxYRuCeUBVG/sxR3UyZ+heTGBooCQxXAfavO1O1V3dbQgJri2V1E21Ypw2v5G/P8ASEWyagzcAjLmk5HEu9ibKWGYb34QUJ83LiZA3ZoCXhpDQV0nezM2vDCOrHJn3IKYAHUL2ix4E5ftBXUr2nOzKuCgBTEB6u492i2QgdQeULeg20FsM4vFNsQEqAu5FSvTM52nbr6DqmN1Z3KFqqvxioupo1pb7Tg4dJ66ndovBj6rO6OhgJjUePbT1A2/4av4sXSeuhnPBPHEhrFbBNXc+G1p6rjrndDbIz2IdQT6aTBz323bws6EUMdtXErfPaGOf0HJGOFvY2cC1HE57JPLQkf0hTruRecvYyQt7EyAOr0pQHt8ye/Ic/tBne5Fy4c2xEROHbdrt1Sn9IM63YuWtNqGmDCo0++n94c6bmyIHGtDTBjUcWSN+kMdT7PIC8qI4M3vTBjUsYlv+kMdT2von6drQ0xY1I3f6Tn1hjqegdTW1oaYsKiT/npvqPPJ7LgL0IaYsKnTvwfWG+q0KVDZ2oaYoDrOSNsTs+vZfWRyrAUx4d3R0OBDvr9MQ1v9oS7rAsSnZm7Pgx5vM37m0Pu1V9RpOTb1rvGq8mAUlPfqOwwtxxDQuzPm5Ax44Ba1iZELb6gGlmNIfu3/Fkj/IC/Ip++T3lAdXG8Vfnz4hmpgOdarsuFqYDlW5ddwbiiBi9e2p0b7CZJjjYuJ/xNAjl1BTPQSXv4zIR3AYPBfY3oKaLen2fsAAAAASUVORK5CYII=)\n",
        "\n"
      ],
      "metadata": {
        "id": "srMzArUBUXqL"
      }
    },
    {
      "cell_type": "code",
      "source": [
        "# write code here. Feel free to add more cell code."
      ],
      "metadata": {
        "id": "fSOtB0bdVwTT"
      },
      "execution_count": null,
      "outputs": []
    }
  ]
}